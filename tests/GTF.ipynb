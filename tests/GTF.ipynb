{
 "cells": [
  {
   "cell_type": "markdown",
   "id": "0dfa6e78-51a8-414c-9505-6fa2b76c2a2a",
   "metadata": {},
   "source": [
    "# GTF"
   ]
  },
  {
   "cell_type": "markdown",
   "id": "bed4ee06-90cf-4480-a3d1-ca01abb7a677",
   "metadata": {},
   "source": [
    "## API"
   ]
  },
  {
   "cell_type": "code",
   "execution_count": 1,
   "id": "fffba0e9-25e9-4863-af9c-8aee7c8feb8b",
   "metadata": {},
   "outputs": [],
   "source": [
    "from annokit.gtf import GTF"
   ]
  },
  {
   "cell_type": "code",
   "execution_count": 2,
   "id": "ede993a8-1042-4c5b-b906-c9025731783c",
   "metadata": {},
   "outputs": [],
   "source": [
    "gtf = GTF()"
   ]
  },
  {
   "cell_type": "code",
   "execution_count": 3,
   "id": "ee565ee9-2ef4-4765-aa59-db0434ded684",
   "metadata": {},
   "outputs": [],
   "source": [
    "gtf.name"
   ]
  },
  {
   "cell_type": "code",
   "execution_count": 4,
   "id": "7ee217ae-2691-4251-b6ab-4d02e8fc3d8d",
   "metadata": {},
   "outputs": [],
   "source": [
    "gtf.version"
   ]
  },
  {
   "cell_type": "code",
   "execution_count": 5,
   "id": "1e65745d-0b5e-449a-b11a-6bc2d017bb67",
   "metadata": {},
   "outputs": [],
   "source": [
    "gtf.URL"
   ]
  },
  {
   "cell_type": "code",
   "execution_count": 6,
   "id": "2c3634a4-619e-4803-9379-b6a95e9ef872",
   "metadata": {},
   "outputs": [
    {
     "data": {
      "text/plain": [
       "{'gene': 'gene',\n",
       " 'trans': 'transcript',\n",
       " 'exon': 'exon',\n",
       " 'CDS': 'CDS',\n",
       " 'start_codon': 'start_codon',\n",
       " 'stop_codon': 'stop_codon',\n",
       " 'UTR5': 'five_prime_utr',\n",
       " 'UTR3': 'three_prime_utr',\n",
       " 'other': 'other'}"
      ]
     },
     "execution_count": 6,
     "metadata": {},
     "output_type": "execute_result"
    }
   ],
   "source": [
    "gtf.anno_map"
   ]
  },
  {
   "cell_type": "markdown",
   "id": "5f8ca5ec-a180-4629-b9ae-b3f9e03c28ac",
   "metadata": {},
   "source": [
    "### gtf file read"
   ]
  },
  {
   "cell_type": "markdown",
   "id": "9ef5279f-9d37-4234-b54f-62f09b22f766",
   "metadata": {},
   "source": [
    "#### raw anno_map"
   ]
  },
  {
   "cell_type": "code",
   "execution_count": 7,
   "id": "0a0aeb15-7085-40ea-a55a-ae15ffd9e966",
   "metadata": {},
   "outputs": [
    {
     "name": "stderr",
     "output_type": "stream",
     "text": [
      "\u001b[32m2024-05-05 11:57:21.573\u001b[0m | \u001b[33m\u001b[1mWARNING \u001b[0m | \u001b[36mannokit.gtf\u001b[0m:\u001b[36mread\u001b[0m:\u001b[36m245\u001b[0m - \u001b[33m\u001b[1mannotation type warning: Selenocysteine\u001b[0m\n",
      "\u001b[32m2024-05-05 11:57:21.574\u001b[0m | \u001b[33m\u001b[1mWARNING \u001b[0m | \u001b[36mannokit.gtf\u001b[0m:\u001b[36mread\u001b[0m:\u001b[36m245\u001b[0m - \u001b[33m\u001b[1mannotation type warning: Selenocysteine\u001b[0m\n",
      "\u001b[32m2024-05-05 11:57:21.574\u001b[0m | \u001b[33m\u001b[1mWARNING \u001b[0m | \u001b[36mannokit.gtf\u001b[0m:\u001b[36mread\u001b[0m:\u001b[36m245\u001b[0m - \u001b[33m\u001b[1mannotation type warning: Selenocysteine\u001b[0m\n",
      "\u001b[32m2024-05-05 11:57:21.575\u001b[0m | \u001b[33m\u001b[1mWARNING \u001b[0m | \u001b[36mannokit.gtf\u001b[0m:\u001b[36mread\u001b[0m:\u001b[36m245\u001b[0m - \u001b[33m\u001b[1mannotation type warning: Selenocysteine\u001b[0m\n",
      "\u001b[32m2024-05-05 11:57:21.576\u001b[0m | \u001b[33m\u001b[1mWARNING \u001b[0m | \u001b[36mannokit.gtf\u001b[0m:\u001b[36mread\u001b[0m:\u001b[36m245\u001b[0m - \u001b[33m\u001b[1mannotation type warning: Selenocysteine\u001b[0m\n",
      "\u001b[32m2024-05-05 11:57:22.420\u001b[0m | \u001b[33m\u001b[1mWARNING \u001b[0m | \u001b[36mannokit.gtf\u001b[0m:\u001b[36mread\u001b[0m:\u001b[36m245\u001b[0m - \u001b[33m\u001b[1mannotation type warning: Selenocysteine\u001b[0m\n",
      "\u001b[32m2024-05-05 11:57:22.420\u001b[0m | \u001b[33m\u001b[1mWARNING \u001b[0m | \u001b[36mannokit.gtf\u001b[0m:\u001b[36mread\u001b[0m:\u001b[36m245\u001b[0m - \u001b[33m\u001b[1mannotation type warning: Selenocysteine\u001b[0m\n",
      "\u001b[32m2024-05-05 11:57:22.421\u001b[0m | \u001b[33m\u001b[1mWARNING \u001b[0m | \u001b[36mannokit.gtf\u001b[0m:\u001b[36mread\u001b[0m:\u001b[36m245\u001b[0m - \u001b[33m\u001b[1mannotation type warning: Selenocysteine\u001b[0m\n",
      "\u001b[32m2024-05-05 11:57:23.752\u001b[0m | \u001b[33m\u001b[1mWARNING \u001b[0m | \u001b[36mannokit.gtf\u001b[0m:\u001b[36mread\u001b[0m:\u001b[36m245\u001b[0m - \u001b[33m\u001b[1mannotation type warning: Selenocysteine\u001b[0m\n",
      "\u001b[32m2024-05-05 11:57:23.752\u001b[0m | \u001b[33m\u001b[1mWARNING \u001b[0m | \u001b[36mannokit.gtf\u001b[0m:\u001b[36mread\u001b[0m:\u001b[36m245\u001b[0m - \u001b[33m\u001b[1mannotation type warning: Selenocysteine\u001b[0m\n",
      "\u001b[32m2024-05-05 11:57:23.753\u001b[0m | \u001b[33m\u001b[1mWARNING \u001b[0m | \u001b[36mannokit.gtf\u001b[0m:\u001b[36mread\u001b[0m:\u001b[36m245\u001b[0m - \u001b[33m\u001b[1mannotation type warning: Selenocysteine\u001b[0m\n",
      "\u001b[32m2024-05-05 11:57:23.754\u001b[0m | \u001b[33m\u001b[1mWARNING \u001b[0m | \u001b[36mannokit.gtf\u001b[0m:\u001b[36mread\u001b[0m:\u001b[36m245\u001b[0m - \u001b[33m\u001b[1mannotation type warning: Selenocysteine\u001b[0m\n",
      "\u001b[32m2024-05-05 11:57:25.611\u001b[0m | \u001b[33m\u001b[1mWARNING \u001b[0m | \u001b[36mannokit.gtf\u001b[0m:\u001b[36mread\u001b[0m:\u001b[36m245\u001b[0m - \u001b[33m\u001b[1mannotation type warning: Selenocysteine\u001b[0m\n",
      "\u001b[32m2024-05-05 11:57:28.171\u001b[0m | \u001b[33m\u001b[1mWARNING \u001b[0m | \u001b[36mannokit.gtf\u001b[0m:\u001b[36mread\u001b[0m:\u001b[36m245\u001b[0m - \u001b[33m\u001b[1mannotation type warning: Selenocysteine\u001b[0m\n",
      "\u001b[32m2024-05-05 11:57:28.172\u001b[0m | \u001b[33m\u001b[1mWARNING \u001b[0m | \u001b[36mannokit.gtf\u001b[0m:\u001b[36mread\u001b[0m:\u001b[36m245\u001b[0m - \u001b[33m\u001b[1mannotation type warning: Selenocysteine\u001b[0m\n",
      "\u001b[32m2024-05-05 11:57:28.528\u001b[0m | \u001b[33m\u001b[1mWARNING \u001b[0m | \u001b[36mannokit.gtf\u001b[0m:\u001b[36mread\u001b[0m:\u001b[36m245\u001b[0m - \u001b[33m\u001b[1mannotation type warning: Selenocysteine\u001b[0m\n",
      "\u001b[32m2024-05-05 11:57:28.534\u001b[0m | \u001b[33m\u001b[1mWARNING \u001b[0m | \u001b[36mannokit.gtf\u001b[0m:\u001b[36mread\u001b[0m:\u001b[36m245\u001b[0m - \u001b[33m\u001b[1mannotation type warning: Selenocysteine\u001b[0m\n",
      "\u001b[32m2024-05-05 11:57:29.498\u001b[0m | \u001b[33m\u001b[1mWARNING \u001b[0m | \u001b[36mannokit.gtf\u001b[0m:\u001b[36mread\u001b[0m:\u001b[36m245\u001b[0m - \u001b[33m\u001b[1mannotation type warning: Selenocysteine\u001b[0m\n",
      "\u001b[32m2024-05-05 11:57:29.499\u001b[0m | \u001b[33m\u001b[1mWARNING \u001b[0m | \u001b[36mannokit.gtf\u001b[0m:\u001b[36mread\u001b[0m:\u001b[36m245\u001b[0m - \u001b[33m\u001b[1mannotation type warning: Selenocysteine\u001b[0m\n",
      "\u001b[32m2024-05-05 11:57:29.500\u001b[0m | \u001b[33m\u001b[1mWARNING \u001b[0m | \u001b[36mannokit.gtf\u001b[0m:\u001b[36mread\u001b[0m:\u001b[36m245\u001b[0m - \u001b[33m\u001b[1mannotation type warning: Selenocysteine\u001b[0m\n",
      "\u001b[32m2024-05-05 11:57:29.500\u001b[0m | \u001b[33m\u001b[1mWARNING \u001b[0m | \u001b[36mannokit.gtf\u001b[0m:\u001b[36mread\u001b[0m:\u001b[36m245\u001b[0m - \u001b[33m\u001b[1mannotation type warning: Selenocysteine\u001b[0m\n",
      "\u001b[32m2024-05-05 11:57:29.501\u001b[0m | \u001b[33m\u001b[1mWARNING \u001b[0m | \u001b[36mannokit.gtf\u001b[0m:\u001b[36mread\u001b[0m:\u001b[36m245\u001b[0m - \u001b[33m\u001b[1mannotation type warning: Selenocysteine\u001b[0m\n",
      "\u001b[32m2024-05-05 11:57:29.502\u001b[0m | \u001b[33m\u001b[1mWARNING \u001b[0m | \u001b[36mannokit.gtf\u001b[0m:\u001b[36mread\u001b[0m:\u001b[36m245\u001b[0m - \u001b[33m\u001b[1mannotation type warning: Selenocysteine\u001b[0m\n",
      "\u001b[32m2024-05-05 11:57:29.502\u001b[0m | \u001b[33m\u001b[1mWARNING \u001b[0m | \u001b[36mannokit.gtf\u001b[0m:\u001b[36mread\u001b[0m:\u001b[36m245\u001b[0m - \u001b[33m\u001b[1mannotation type warning: Selenocysteine\u001b[0m\n",
      "\u001b[32m2024-05-05 11:57:29.503\u001b[0m | \u001b[33m\u001b[1mWARNING \u001b[0m | \u001b[36mannokit.gtf\u001b[0m:\u001b[36mread\u001b[0m:\u001b[36m245\u001b[0m - \u001b[33m\u001b[1mannotation type warning: Selenocysteine\u001b[0m\n",
      "\u001b[32m2024-05-05 11:57:29.503\u001b[0m | \u001b[33m\u001b[1mWARNING \u001b[0m | \u001b[36mannokit.gtf\u001b[0m:\u001b[36mread\u001b[0m:\u001b[36m245\u001b[0m - \u001b[33m\u001b[1mannotation type warning: Selenocysteine\u001b[0m\n",
      "\u001b[32m2024-05-05 11:57:29.504\u001b[0m | \u001b[33m\u001b[1mWARNING \u001b[0m | \u001b[36mannokit.gtf\u001b[0m:\u001b[36mread\u001b[0m:\u001b[36m245\u001b[0m - \u001b[33m\u001b[1mannotation type warning: Selenocysteine\u001b[0m\n",
      "\u001b[32m2024-05-05 11:57:29.504\u001b[0m | \u001b[33m\u001b[1mWARNING \u001b[0m | \u001b[36mannokit.gtf\u001b[0m:\u001b[36mread\u001b[0m:\u001b[36m245\u001b[0m - \u001b[33m\u001b[1mannotation type warning: Selenocysteine\u001b[0m\n",
      "\u001b[32m2024-05-05 11:57:33.003\u001b[0m | \u001b[33m\u001b[1mWARNING \u001b[0m | \u001b[36mannokit.gtf\u001b[0m:\u001b[36mread\u001b[0m:\u001b[36m245\u001b[0m - \u001b[33m\u001b[1mannotation type warning: Selenocysteine\u001b[0m\n",
      "\u001b[32m2024-05-05 11:57:33.004\u001b[0m | \u001b[33m\u001b[1mWARNING \u001b[0m | \u001b[36mannokit.gtf\u001b[0m:\u001b[36mread\u001b[0m:\u001b[36m245\u001b[0m - \u001b[33m\u001b[1mannotation type warning: Selenocysteine\u001b[0m\n",
      "\u001b[32m2024-05-05 11:57:33.004\u001b[0m | \u001b[33m\u001b[1mWARNING \u001b[0m | \u001b[36mannokit.gtf\u001b[0m:\u001b[36mread\u001b[0m:\u001b[36m245\u001b[0m - \u001b[33m\u001b[1mannotation type warning: Selenocysteine\u001b[0m\n",
      "\u001b[32m2024-05-05 11:57:33.006\u001b[0m | \u001b[33m\u001b[1mWARNING \u001b[0m | \u001b[36mannokit.gtf\u001b[0m:\u001b[36mread\u001b[0m:\u001b[36m245\u001b[0m - \u001b[33m\u001b[1mannotation type warning: Selenocysteine\u001b[0m\n",
      "\u001b[32m2024-05-05 11:57:33.006\u001b[0m | \u001b[33m\u001b[1mWARNING \u001b[0m | \u001b[36mannokit.gtf\u001b[0m:\u001b[36mread\u001b[0m:\u001b[36m245\u001b[0m - \u001b[33m\u001b[1mannotation type warning: Selenocysteine\u001b[0m\n",
      "\u001b[32m2024-05-05 11:57:33.007\u001b[0m | \u001b[33m\u001b[1mWARNING \u001b[0m | \u001b[36mannokit.gtf\u001b[0m:\u001b[36mread\u001b[0m:\u001b[36m245\u001b[0m - \u001b[33m\u001b[1mannotation type warning: Selenocysteine\u001b[0m\n",
      "\u001b[32m2024-05-05 11:57:33.007\u001b[0m | \u001b[33m\u001b[1mWARNING \u001b[0m | \u001b[36mannokit.gtf\u001b[0m:\u001b[36mread\u001b[0m:\u001b[36m245\u001b[0m - \u001b[33m\u001b[1mannotation type warning: Selenocysteine\u001b[0m\n",
      "\u001b[32m2024-05-05 11:57:33.007\u001b[0m | \u001b[33m\u001b[1mWARNING \u001b[0m | \u001b[36mannokit.gtf\u001b[0m:\u001b[36mread\u001b[0m:\u001b[36m245\u001b[0m - \u001b[33m\u001b[1mannotation type warning: Selenocysteine\u001b[0m\n",
      "\u001b[32m2024-05-05 11:57:33.559\u001b[0m | \u001b[33m\u001b[1mWARNING \u001b[0m | \u001b[36mannokit.gtf\u001b[0m:\u001b[36mread\u001b[0m:\u001b[36m245\u001b[0m - \u001b[33m\u001b[1mannotation type warning: Selenocysteine\u001b[0m\n",
      "\u001b[32m2024-05-05 11:57:33.559\u001b[0m | \u001b[33m\u001b[1mWARNING \u001b[0m | \u001b[36mannokit.gtf\u001b[0m:\u001b[36mread\u001b[0m:\u001b[36m245\u001b[0m - \u001b[33m\u001b[1mannotation type warning: Selenocysteine\u001b[0m\n",
      "\u001b[32m2024-05-05 11:57:33.560\u001b[0m | \u001b[33m\u001b[1mWARNING \u001b[0m | \u001b[36mannokit.gtf\u001b[0m:\u001b[36mread\u001b[0m:\u001b[36m245\u001b[0m - \u001b[33m\u001b[1mannotation type warning: Selenocysteine\u001b[0m\n",
      "\u001b[32m2024-05-05 11:57:33.561\u001b[0m | \u001b[33m\u001b[1mWARNING \u001b[0m | \u001b[36mannokit.gtf\u001b[0m:\u001b[36mread\u001b[0m:\u001b[36m245\u001b[0m - \u001b[33m\u001b[1mannotation type warning: Selenocysteine\u001b[0m\n",
      "\u001b[32m2024-05-05 11:57:33.561\u001b[0m | \u001b[33m\u001b[1mWARNING \u001b[0m | \u001b[36mannokit.gtf\u001b[0m:\u001b[36mread\u001b[0m:\u001b[36m245\u001b[0m - \u001b[33m\u001b[1mannotation type warning: Selenocysteine\u001b[0m\n",
      "\u001b[32m2024-05-05 11:57:33.562\u001b[0m | \u001b[33m\u001b[1mWARNING \u001b[0m | \u001b[36mannokit.gtf\u001b[0m:\u001b[36mread\u001b[0m:\u001b[36m245\u001b[0m - \u001b[33m\u001b[1mannotation type warning: Selenocysteine\u001b[0m\n",
      "\u001b[32m2024-05-05 11:57:33.562\u001b[0m | \u001b[33m\u001b[1mWARNING \u001b[0m | \u001b[36mannokit.gtf\u001b[0m:\u001b[36mread\u001b[0m:\u001b[36m245\u001b[0m - \u001b[33m\u001b[1mannotation type warning: Selenocysteine\u001b[0m\n",
      "\u001b[32m2024-05-05 11:57:33.562\u001b[0m | \u001b[33m\u001b[1mWARNING \u001b[0m | \u001b[36mannokit.gtf\u001b[0m:\u001b[36mread\u001b[0m:\u001b[36m245\u001b[0m - \u001b[33m\u001b[1mannotation type warning: Selenocysteine\u001b[0m\n",
      "\u001b[32m2024-05-05 11:57:33.563\u001b[0m | \u001b[33m\u001b[1mWARNING \u001b[0m | \u001b[36mannokit.gtf\u001b[0m:\u001b[36mread\u001b[0m:\u001b[36m245\u001b[0m - \u001b[33m\u001b[1mannotation type warning: Selenocysteine\u001b[0m\n",
      "\u001b[32m2024-05-05 11:57:33.563\u001b[0m | \u001b[33m\u001b[1mWARNING \u001b[0m | \u001b[36mannokit.gtf\u001b[0m:\u001b[36mread\u001b[0m:\u001b[36m245\u001b[0m - \u001b[33m\u001b[1mannotation type warning: Selenocysteine\u001b[0m\n",
      "\u001b[32m2024-05-05 11:57:33.564\u001b[0m | \u001b[33m\u001b[1mWARNING \u001b[0m | \u001b[36mannokit.gtf\u001b[0m:\u001b[36mread\u001b[0m:\u001b[36m245\u001b[0m - \u001b[33m\u001b[1mannotation type warning: Selenocysteine\u001b[0m\n",
      "\u001b[32m2024-05-05 11:57:33.565\u001b[0m | \u001b[33m\u001b[1mWARNING \u001b[0m | \u001b[36mannokit.gtf\u001b[0m:\u001b[36mread\u001b[0m:\u001b[36m245\u001b[0m - \u001b[33m\u001b[1mannotation type warning: Selenocysteine\u001b[0m\n",
      "\u001b[32m2024-05-05 11:57:33.565\u001b[0m | \u001b[33m\u001b[1mWARNING \u001b[0m | \u001b[36mannokit.gtf\u001b[0m:\u001b[36mread\u001b[0m:\u001b[36m245\u001b[0m - \u001b[33m\u001b[1mannotation type warning: Selenocysteine\u001b[0m\n",
      "\u001b[32m2024-05-05 11:57:33.566\u001b[0m | \u001b[33m\u001b[1mWARNING \u001b[0m | \u001b[36mannokit.gtf\u001b[0m:\u001b[36mread\u001b[0m:\u001b[36m245\u001b[0m - \u001b[33m\u001b[1mannotation type warning: Selenocysteine\u001b[0m\n",
      "\u001b[32m2024-05-05 11:57:33.566\u001b[0m | \u001b[33m\u001b[1mWARNING \u001b[0m | \u001b[36mannokit.gtf\u001b[0m:\u001b[36mread\u001b[0m:\u001b[36m245\u001b[0m - \u001b[33m\u001b[1mannotation type warning: Selenocysteine\u001b[0m\n",
      "\u001b[32m2024-05-05 11:57:33.567\u001b[0m | \u001b[33m\u001b[1mWARNING \u001b[0m | \u001b[36mannokit.gtf\u001b[0m:\u001b[36mread\u001b[0m:\u001b[36m245\u001b[0m - \u001b[33m\u001b[1mannotation type warning: Selenocysteine\u001b[0m\n",
      "\u001b[32m2024-05-05 11:57:33.567\u001b[0m | \u001b[33m\u001b[1mWARNING \u001b[0m | \u001b[36mannokit.gtf\u001b[0m:\u001b[36mread\u001b[0m:\u001b[36m245\u001b[0m - \u001b[33m\u001b[1mannotation type warning: Selenocysteine\u001b[0m\n",
      "\u001b[32m2024-05-05 11:57:33.567\u001b[0m | \u001b[33m\u001b[1mWARNING \u001b[0m | \u001b[36mannokit.gtf\u001b[0m:\u001b[36mread\u001b[0m:\u001b[36m245\u001b[0m - \u001b[33m\u001b[1mannotation type warning: Selenocysteine\u001b[0m\n",
      "\u001b[32m2024-05-05 11:57:33.568\u001b[0m | \u001b[33m\u001b[1mWARNING \u001b[0m | \u001b[36mannokit.gtf\u001b[0m:\u001b[36mread\u001b[0m:\u001b[36m245\u001b[0m - \u001b[33m\u001b[1mannotation type warning: Selenocysteine\u001b[0m\n",
      "\u001b[32m2024-05-05 11:57:33.568\u001b[0m | \u001b[33m\u001b[1mWARNING \u001b[0m | \u001b[36mannokit.gtf\u001b[0m:\u001b[36mread\u001b[0m:\u001b[36m245\u001b[0m - \u001b[33m\u001b[1mannotation type warning: Selenocysteine\u001b[0m\n",
      "\u001b[32m2024-05-05 11:57:33.569\u001b[0m | \u001b[33m\u001b[1mWARNING \u001b[0m | \u001b[36mannokit.gtf\u001b[0m:\u001b[36mread\u001b[0m:\u001b[36m245\u001b[0m - \u001b[33m\u001b[1mannotation type warning: Selenocysteine\u001b[0m\n",
      "\u001b[32m2024-05-05 11:57:33.569\u001b[0m | \u001b[33m\u001b[1mWARNING \u001b[0m | \u001b[36mannokit.gtf\u001b[0m:\u001b[36mread\u001b[0m:\u001b[36m245\u001b[0m - \u001b[33m\u001b[1mannotation type warning: Selenocysteine\u001b[0m\n",
      "\u001b[32m2024-05-05 11:57:33.570\u001b[0m | \u001b[33m\u001b[1mWARNING \u001b[0m | \u001b[36mannokit.gtf\u001b[0m:\u001b[36mread\u001b[0m:\u001b[36m245\u001b[0m - \u001b[33m\u001b[1mannotation type warning: Selenocysteine\u001b[0m\n",
      "\u001b[32m2024-05-05 11:57:33.570\u001b[0m | \u001b[33m\u001b[1mWARNING \u001b[0m | \u001b[36mannokit.gtf\u001b[0m:\u001b[36mread\u001b[0m:\u001b[36m245\u001b[0m - \u001b[33m\u001b[1mannotation type warning: Selenocysteine\u001b[0m\n",
      "\u001b[32m2024-05-05 11:57:33.571\u001b[0m | \u001b[33m\u001b[1mWARNING \u001b[0m | \u001b[36mannokit.gtf\u001b[0m:\u001b[36mread\u001b[0m:\u001b[36m245\u001b[0m - \u001b[33m\u001b[1mannotation type warning: Selenocysteine\u001b[0m\n",
      "\u001b[32m2024-05-05 11:57:33.571\u001b[0m | \u001b[33m\u001b[1mWARNING \u001b[0m | \u001b[36mannokit.gtf\u001b[0m:\u001b[36mread\u001b[0m:\u001b[36m245\u001b[0m - \u001b[33m\u001b[1mannotation type warning: Selenocysteine\u001b[0m\n",
      "\u001b[32m2024-05-05 11:57:33.572\u001b[0m | \u001b[33m\u001b[1mWARNING \u001b[0m | \u001b[36mannokit.gtf\u001b[0m:\u001b[36mread\u001b[0m:\u001b[36m245\u001b[0m - \u001b[33m\u001b[1mannotation type warning: Selenocysteine\u001b[0m\n",
      "\u001b[32m2024-05-05 11:57:33.572\u001b[0m | \u001b[33m\u001b[1mWARNING \u001b[0m | \u001b[36mannokit.gtf\u001b[0m:\u001b[36mread\u001b[0m:\u001b[36m245\u001b[0m - \u001b[33m\u001b[1mannotation type warning: Selenocysteine\u001b[0m\n",
      "\u001b[32m2024-05-05 11:57:33.572\u001b[0m | \u001b[33m\u001b[1mWARNING \u001b[0m | \u001b[36mannokit.gtf\u001b[0m:\u001b[36mread\u001b[0m:\u001b[36m245\u001b[0m - \u001b[33m\u001b[1mannotation type warning: Selenocysteine\u001b[0m\n",
      "\u001b[32m2024-05-05 11:57:33.573\u001b[0m | \u001b[33m\u001b[1mWARNING \u001b[0m | \u001b[36mannokit.gtf\u001b[0m:\u001b[36mread\u001b[0m:\u001b[36m245\u001b[0m - \u001b[33m\u001b[1mannotation type warning: Selenocysteine\u001b[0m\n",
      "\u001b[32m2024-05-05 11:57:33.575\u001b[0m | \u001b[33m\u001b[1mWARNING \u001b[0m | \u001b[36mannokit.gtf\u001b[0m:\u001b[36mread\u001b[0m:\u001b[36m245\u001b[0m - \u001b[33m\u001b[1mannotation type warning: Selenocysteine\u001b[0m\n",
      "\u001b[32m2024-05-05 11:57:33.575\u001b[0m | \u001b[33m\u001b[1mWARNING \u001b[0m | \u001b[36mannokit.gtf\u001b[0m:\u001b[36mread\u001b[0m:\u001b[36m245\u001b[0m - \u001b[33m\u001b[1mannotation type warning: Selenocysteine\u001b[0m\n",
      "\u001b[32m2024-05-05 11:57:33.576\u001b[0m | \u001b[33m\u001b[1mWARNING \u001b[0m | \u001b[36mannokit.gtf\u001b[0m:\u001b[36mread\u001b[0m:\u001b[36m245\u001b[0m - \u001b[33m\u001b[1mannotation type warning: Selenocysteine\u001b[0m\n",
      "\u001b[32m2024-05-05 11:57:33.576\u001b[0m | \u001b[33m\u001b[1mWARNING \u001b[0m | \u001b[36mannokit.gtf\u001b[0m:\u001b[36mread\u001b[0m:\u001b[36m245\u001b[0m - \u001b[33m\u001b[1mannotation type warning: Selenocysteine\u001b[0m\n",
      "\u001b[32m2024-05-05 11:57:35.051\u001b[0m | \u001b[33m\u001b[1mWARNING \u001b[0m | \u001b[36mannokit.gtf\u001b[0m:\u001b[36mread\u001b[0m:\u001b[36m245\u001b[0m - \u001b[33m\u001b[1mannotation type warning: Selenocysteine\u001b[0m\n",
      "\u001b[32m2024-05-05 11:57:35.052\u001b[0m | \u001b[33m\u001b[1mWARNING \u001b[0m | \u001b[36mannokit.gtf\u001b[0m:\u001b[36mread\u001b[0m:\u001b[36m245\u001b[0m - \u001b[33m\u001b[1mannotation type warning: Selenocysteine\u001b[0m\n",
      "\u001b[32m2024-05-05 11:57:35.052\u001b[0m | \u001b[33m\u001b[1mWARNING \u001b[0m | \u001b[36mannokit.gtf\u001b[0m:\u001b[36mread\u001b[0m:\u001b[36m245\u001b[0m - \u001b[33m\u001b[1mannotation type warning: Selenocysteine\u001b[0m\n",
      "\u001b[32m2024-05-05 11:57:44.002\u001b[0m | \u001b[33m\u001b[1mWARNING \u001b[0m | \u001b[36mannokit.gtf\u001b[0m:\u001b[36mread\u001b[0m:\u001b[36m245\u001b[0m - \u001b[33m\u001b[1mannotation type warning: Selenocysteine\u001b[0m\n",
      "\u001b[32m2024-05-05 11:57:44.003\u001b[0m | \u001b[33m\u001b[1mWARNING \u001b[0m | \u001b[36mannokit.gtf\u001b[0m:\u001b[36mread\u001b[0m:\u001b[36m245\u001b[0m - \u001b[33m\u001b[1mannotation type warning: Selenocysteine\u001b[0m\n",
      "\u001b[32m2024-05-05 11:57:44.004\u001b[0m | \u001b[33m\u001b[1mWARNING \u001b[0m | \u001b[36mannokit.gtf\u001b[0m:\u001b[36mread\u001b[0m:\u001b[36m245\u001b[0m - \u001b[33m\u001b[1mannotation type warning: Selenocysteine\u001b[0m\n",
      "\u001b[32m2024-05-05 11:57:48.299\u001b[0m | \u001b[33m\u001b[1mWARNING \u001b[0m | \u001b[36mannokit.gtf\u001b[0m:\u001b[36mread\u001b[0m:\u001b[36m245\u001b[0m - \u001b[33m\u001b[1mannotation type warning: Selenocysteine\u001b[0m\n",
      "\u001b[32m2024-05-05 11:57:48.300\u001b[0m | \u001b[33m\u001b[1mWARNING \u001b[0m | \u001b[36mannokit.gtf\u001b[0m:\u001b[36mread\u001b[0m:\u001b[36m245\u001b[0m - \u001b[33m\u001b[1mannotation type warning: Selenocysteine\u001b[0m\n",
      "\u001b[32m2024-05-05 11:57:48.301\u001b[0m | \u001b[33m\u001b[1mWARNING \u001b[0m | \u001b[36mannokit.gtf\u001b[0m:\u001b[36mread\u001b[0m:\u001b[36m245\u001b[0m - \u001b[33m\u001b[1mannotation type warning: Selenocysteine\u001b[0m\n",
      "\u001b[32m2024-05-05 11:57:48.302\u001b[0m | \u001b[33m\u001b[1mWARNING \u001b[0m | \u001b[36mannokit.gtf\u001b[0m:\u001b[36mread\u001b[0m:\u001b[36m245\u001b[0m - \u001b[33m\u001b[1mannotation type warning: Selenocysteine\u001b[0m\n",
      "\u001b[32m2024-05-05 11:57:48.303\u001b[0m | \u001b[33m\u001b[1mWARNING \u001b[0m | \u001b[36mannokit.gtf\u001b[0m:\u001b[36mread\u001b[0m:\u001b[36m245\u001b[0m - \u001b[33m\u001b[1mannotation type warning: Selenocysteine\u001b[0m\n",
      "\u001b[32m2024-05-05 11:57:48.303\u001b[0m | \u001b[33m\u001b[1mWARNING \u001b[0m | \u001b[36mannokit.gtf\u001b[0m:\u001b[36mread\u001b[0m:\u001b[36m245\u001b[0m - \u001b[33m\u001b[1mannotation type warning: Selenocysteine\u001b[0m\n",
      "\u001b[32m2024-05-05 11:57:48.304\u001b[0m | \u001b[33m\u001b[1mWARNING \u001b[0m | \u001b[36mannokit.gtf\u001b[0m:\u001b[36mread\u001b[0m:\u001b[36m245\u001b[0m - \u001b[33m\u001b[1mannotation type warning: Selenocysteine\u001b[0m\n",
      "\u001b[32m2024-05-05 11:57:50.826\u001b[0m | \u001b[33m\u001b[1mWARNING \u001b[0m | \u001b[36mannokit.gtf\u001b[0m:\u001b[36mread\u001b[0m:\u001b[36m245\u001b[0m - \u001b[33m\u001b[1mannotation type warning: Selenocysteine\u001b[0m\n",
      "\u001b[32m2024-05-05 11:57:50.827\u001b[0m | \u001b[33m\u001b[1mWARNING \u001b[0m | \u001b[36mannokit.gtf\u001b[0m:\u001b[36mread\u001b[0m:\u001b[36m245\u001b[0m - \u001b[33m\u001b[1mannotation type warning: Selenocysteine\u001b[0m\n",
      "\u001b[32m2024-05-05 11:57:50.827\u001b[0m | \u001b[33m\u001b[1mWARNING \u001b[0m | \u001b[36mannokit.gtf\u001b[0m:\u001b[36mread\u001b[0m:\u001b[36m245\u001b[0m - \u001b[33m\u001b[1mannotation type warning: Selenocysteine\u001b[0m\n",
      "\u001b[32m2024-05-05 11:57:50.828\u001b[0m | \u001b[33m\u001b[1mWARNING \u001b[0m | \u001b[36mannokit.gtf\u001b[0m:\u001b[36mread\u001b[0m:\u001b[36m245\u001b[0m - \u001b[33m\u001b[1mannotation type warning: Selenocysteine\u001b[0m\n",
      "\u001b[32m2024-05-05 11:57:50.958\u001b[0m | \u001b[33m\u001b[1mWARNING \u001b[0m | \u001b[36mannokit.gtf\u001b[0m:\u001b[36mread\u001b[0m:\u001b[36m245\u001b[0m - \u001b[33m\u001b[1mannotation type warning: Selenocysteine\u001b[0m\n",
      "\u001b[32m2024-05-05 11:57:50.959\u001b[0m | \u001b[33m\u001b[1mWARNING \u001b[0m | \u001b[36mannokit.gtf\u001b[0m:\u001b[36mread\u001b[0m:\u001b[36m245\u001b[0m - \u001b[33m\u001b[1mannotation type warning: Selenocysteine\u001b[0m\n",
      "\u001b[32m2024-05-05 11:57:50.959\u001b[0m | \u001b[33m\u001b[1mWARNING \u001b[0m | \u001b[36mannokit.gtf\u001b[0m:\u001b[36mread\u001b[0m:\u001b[36m245\u001b[0m - \u001b[33m\u001b[1mannotation type warning: Selenocysteine\u001b[0m\n",
      "\u001b[32m2024-05-05 11:57:51.443\u001b[0m | \u001b[33m\u001b[1mWARNING \u001b[0m | \u001b[36mannokit.gtf\u001b[0m:\u001b[36mread\u001b[0m:\u001b[36m245\u001b[0m - \u001b[33m\u001b[1mannotation type warning: Selenocysteine\u001b[0m\n",
      "\u001b[32m2024-05-05 11:57:51.964\u001b[0m | \u001b[33m\u001b[1mWARNING \u001b[0m | \u001b[36mannokit.gtf\u001b[0m:\u001b[36mread\u001b[0m:\u001b[36m245\u001b[0m - \u001b[33m\u001b[1mannotation type warning: Selenocysteine\u001b[0m\n",
      "\u001b[32m2024-05-05 11:57:51.964\u001b[0m | \u001b[33m\u001b[1mWARNING \u001b[0m | \u001b[36mannokit.gtf\u001b[0m:\u001b[36mread\u001b[0m:\u001b[36m245\u001b[0m - \u001b[33m\u001b[1mannotation type warning: Selenocysteine\u001b[0m\n",
      "\u001b[32m2024-05-05 11:57:51.965\u001b[0m | \u001b[33m\u001b[1mWARNING \u001b[0m | \u001b[36mannokit.gtf\u001b[0m:\u001b[36mread\u001b[0m:\u001b[36m245\u001b[0m - \u001b[33m\u001b[1mannotation type warning: Selenocysteine\u001b[0m\n",
      "\u001b[32m2024-05-05 11:57:53.712\u001b[0m | \u001b[33m\u001b[1mWARNING \u001b[0m | \u001b[36mannokit.gtf\u001b[0m:\u001b[36mread\u001b[0m:\u001b[36m245\u001b[0m - \u001b[33m\u001b[1mannotation type warning: Selenocysteine\u001b[0m\n",
      "\u001b[32m2024-05-05 11:57:54.152\u001b[0m | \u001b[33m\u001b[1mWARNING \u001b[0m | \u001b[36mannokit.gtf\u001b[0m:\u001b[36mread\u001b[0m:\u001b[36m245\u001b[0m - \u001b[33m\u001b[1mannotation type warning: Selenocysteine\u001b[0m\n",
      "\u001b[32m2024-05-05 11:58:00.822\u001b[0m | \u001b[33m\u001b[1mWARNING \u001b[0m | \u001b[36mannokit.gtf\u001b[0m:\u001b[36mread\u001b[0m:\u001b[36m245\u001b[0m - \u001b[33m\u001b[1mannotation type warning: Selenocysteine\u001b[0m\n",
      "\u001b[32m2024-05-05 11:58:00.823\u001b[0m | \u001b[33m\u001b[1mWARNING \u001b[0m | \u001b[36mannokit.gtf\u001b[0m:\u001b[36mread\u001b[0m:\u001b[36m245\u001b[0m - \u001b[33m\u001b[1mannotation type warning: Selenocysteine\u001b[0m\n",
      "\u001b[32m2024-05-05 11:58:00.824\u001b[0m | \u001b[33m\u001b[1mWARNING \u001b[0m | \u001b[36mannokit.gtf\u001b[0m:\u001b[36mread\u001b[0m:\u001b[36m245\u001b[0m - \u001b[33m\u001b[1mannotation type warning: Selenocysteine\u001b[0m\n",
      "\u001b[32m2024-05-05 11:58:00.824\u001b[0m | \u001b[33m\u001b[1mWARNING \u001b[0m | \u001b[36mannokit.gtf\u001b[0m:\u001b[36mread\u001b[0m:\u001b[36m245\u001b[0m - \u001b[33m\u001b[1mannotation type warning: Selenocysteine\u001b[0m\n",
      "\u001b[32m2024-05-05 11:58:00.825\u001b[0m | \u001b[33m\u001b[1mWARNING \u001b[0m | \u001b[36mannokit.gtf\u001b[0m:\u001b[36mread\u001b[0m:\u001b[36m245\u001b[0m - \u001b[33m\u001b[1mannotation type warning: Selenocysteine\u001b[0m\n",
      "\u001b[32m2024-05-05 11:58:00.826\u001b[0m | \u001b[33m\u001b[1mWARNING \u001b[0m | \u001b[36mannokit.gtf\u001b[0m:\u001b[36mread\u001b[0m:\u001b[36m245\u001b[0m - \u001b[33m\u001b[1mannotation type warning: Selenocysteine\u001b[0m\n",
      "\u001b[32m2024-05-05 11:58:01.325\u001b[0m | \u001b[33m\u001b[1mWARNING \u001b[0m | \u001b[36mannokit.gtf\u001b[0m:\u001b[36mread\u001b[0m:\u001b[36m245\u001b[0m - \u001b[33m\u001b[1mannotation type warning: Selenocysteine\u001b[0m\n",
      "\u001b[32m2024-05-05 11:58:01.636\u001b[0m | \u001b[33m\u001b[1mWARNING \u001b[0m | \u001b[36mannokit.gtf\u001b[0m:\u001b[36mread\u001b[0m:\u001b[36m245\u001b[0m - \u001b[33m\u001b[1mannotation type warning: Selenocysteine\u001b[0m\n",
      "\u001b[32m2024-05-05 11:58:01.637\u001b[0m | \u001b[33m\u001b[1mWARNING \u001b[0m | \u001b[36mannokit.gtf\u001b[0m:\u001b[36mread\u001b[0m:\u001b[36m245\u001b[0m - \u001b[33m\u001b[1mannotation type warning: Selenocysteine\u001b[0m\n",
      "\u001b[32m2024-05-05 11:58:01.637\u001b[0m | \u001b[33m\u001b[1mWARNING \u001b[0m | \u001b[36mannokit.gtf\u001b[0m:\u001b[36mread\u001b[0m:\u001b[36m245\u001b[0m - \u001b[33m\u001b[1mannotation type warning: Selenocysteine\u001b[0m\n",
      "\u001b[32m2024-05-05 11:58:01.638\u001b[0m | \u001b[33m\u001b[1mWARNING \u001b[0m | \u001b[36mannokit.gtf\u001b[0m:\u001b[36mread\u001b[0m:\u001b[36m245\u001b[0m - \u001b[33m\u001b[1mannotation type warning: Selenocysteine\u001b[0m\n",
      "\u001b[32m2024-05-05 11:58:01.638\u001b[0m | \u001b[33m\u001b[1mWARNING \u001b[0m | \u001b[36mannokit.gtf\u001b[0m:\u001b[36mread\u001b[0m:\u001b[36m245\u001b[0m - \u001b[33m\u001b[1mannotation type warning: Selenocysteine\u001b[0m\n",
      "\u001b[32m2024-05-05 11:58:01.639\u001b[0m | \u001b[33m\u001b[1mWARNING \u001b[0m | \u001b[36mannokit.gtf\u001b[0m:\u001b[36mread\u001b[0m:\u001b[36m245\u001b[0m - \u001b[33m\u001b[1mannotation type warning: Selenocysteine\u001b[0m\n",
      "\u001b[32m2024-05-05 11:58:01.639\u001b[0m | \u001b[33m\u001b[1mWARNING \u001b[0m | \u001b[36mannokit.gtf\u001b[0m:\u001b[36mread\u001b[0m:\u001b[36m245\u001b[0m - \u001b[33m\u001b[1mannotation type warning: Selenocysteine\u001b[0m\n",
      "\u001b[32m2024-05-05 11:58:01.640\u001b[0m | \u001b[33m\u001b[1mWARNING \u001b[0m | \u001b[36mannokit.gtf\u001b[0m:\u001b[36mread\u001b[0m:\u001b[36m245\u001b[0m - \u001b[33m\u001b[1mannotation type warning: Selenocysteine\u001b[0m\n",
      "\u001b[32m2024-05-05 11:58:01.641\u001b[0m | \u001b[33m\u001b[1mWARNING \u001b[0m | \u001b[36mannokit.gtf\u001b[0m:\u001b[36mread\u001b[0m:\u001b[36m245\u001b[0m - \u001b[33m\u001b[1mannotation type warning: Selenocysteine\u001b[0m\n",
      "\u001b[32m2024-05-05 11:58:01.641\u001b[0m | \u001b[33m\u001b[1mWARNING \u001b[0m | \u001b[36mannokit.gtf\u001b[0m:\u001b[36mread\u001b[0m:\u001b[36m245\u001b[0m - \u001b[33m\u001b[1mannotation type warning: Selenocysteine\u001b[0m\n",
      "\u001b[32m2024-05-05 11:58:01.641\u001b[0m | \u001b[33m\u001b[1mWARNING \u001b[0m | \u001b[36mannokit.gtf\u001b[0m:\u001b[36mread\u001b[0m:\u001b[36m245\u001b[0m - \u001b[33m\u001b[1mannotation type warning: Selenocysteine\u001b[0m\n",
      "\u001b[32m2024-05-05 11:58:01.642\u001b[0m | \u001b[33m\u001b[1mWARNING \u001b[0m | \u001b[36mannokit.gtf\u001b[0m:\u001b[36mread\u001b[0m:\u001b[36m245\u001b[0m - \u001b[33m\u001b[1mannotation type warning: Selenocysteine\u001b[0m\n",
      "\u001b[32m2024-05-05 11:58:01.642\u001b[0m | \u001b[33m\u001b[1mWARNING \u001b[0m | \u001b[36mannokit.gtf\u001b[0m:\u001b[36mread\u001b[0m:\u001b[36m245\u001b[0m - \u001b[33m\u001b[1mannotation type warning: Selenocysteine\u001b[0m\n",
      "\u001b[32m2024-05-05 11:58:01.643\u001b[0m | \u001b[33m\u001b[1mWARNING \u001b[0m | \u001b[36mannokit.gtf\u001b[0m:\u001b[36mread\u001b[0m:\u001b[36m245\u001b[0m - \u001b[33m\u001b[1mannotation type warning: Selenocysteine\u001b[0m\n",
      "\u001b[32m2024-05-05 11:58:01.643\u001b[0m | \u001b[33m\u001b[1mWARNING \u001b[0m | \u001b[36mannokit.gtf\u001b[0m:\u001b[36mread\u001b[0m:\u001b[36m245\u001b[0m - \u001b[33m\u001b[1mannotation type warning: Selenocysteine\u001b[0m\n",
      "\u001b[32m2024-05-05 11:58:02.476\u001b[0m | \u001b[33m\u001b[1mWARNING \u001b[0m | \u001b[36mannokit.gtf\u001b[0m:\u001b[36mread\u001b[0m:\u001b[36m245\u001b[0m - \u001b[33m\u001b[1mannotation type warning: Selenocysteine\u001b[0m\n",
      "\u001b[32m2024-05-05 11:58:02.476\u001b[0m | \u001b[33m\u001b[1mWARNING \u001b[0m | \u001b[36mannokit.gtf\u001b[0m:\u001b[36mread\u001b[0m:\u001b[36m245\u001b[0m - \u001b[33m\u001b[1mannotation type warning: Selenocysteine\u001b[0m\n",
      "\u001b[32m2024-05-05 11:58:02.477\u001b[0m | \u001b[33m\u001b[1mWARNING \u001b[0m | \u001b[36mannokit.gtf\u001b[0m:\u001b[36mread\u001b[0m:\u001b[36m245\u001b[0m - \u001b[33m\u001b[1mannotation type warning: Selenocysteine\u001b[0m\n",
      "\u001b[32m2024-05-05 11:58:02.478\u001b[0m | \u001b[33m\u001b[1mWARNING \u001b[0m | \u001b[36mannokit.gtf\u001b[0m:\u001b[36mread\u001b[0m:\u001b[36m245\u001b[0m - \u001b[33m\u001b[1mannotation type warning: Selenocysteine\u001b[0m\n",
      "\u001b[32m2024-05-05 11:58:02.478\u001b[0m | \u001b[33m\u001b[1mWARNING \u001b[0m | \u001b[36mannokit.gtf\u001b[0m:\u001b[36mread\u001b[0m:\u001b[36m245\u001b[0m - \u001b[33m\u001b[1mannotation type warning: Selenocysteine\u001b[0m\n",
      "\u001b[32m2024-05-05 11:58:02.479\u001b[0m | \u001b[33m\u001b[1mWARNING \u001b[0m | \u001b[36mannokit.gtf\u001b[0m:\u001b[36mread\u001b[0m:\u001b[36m245\u001b[0m - \u001b[33m\u001b[1mannotation type warning: Selenocysteine\u001b[0m\n",
      "\u001b[32m2024-05-05 11:58:02.480\u001b[0m | \u001b[33m\u001b[1mWARNING \u001b[0m | \u001b[36mannokit.gtf\u001b[0m:\u001b[36mread\u001b[0m:\u001b[36m245\u001b[0m - \u001b[33m\u001b[1mannotation type warning: Selenocysteine\u001b[0m\n",
      "\u001b[32m2024-05-05 11:58:02.480\u001b[0m | \u001b[33m\u001b[1mWARNING \u001b[0m | \u001b[36mannokit.gtf\u001b[0m:\u001b[36mread\u001b[0m:\u001b[36m245\u001b[0m - \u001b[33m\u001b[1mannotation type warning: Selenocysteine\u001b[0m\n",
      "\u001b[32m2024-05-05 11:58:02.481\u001b[0m | \u001b[33m\u001b[1mWARNING \u001b[0m | \u001b[36mannokit.gtf\u001b[0m:\u001b[36mread\u001b[0m:\u001b[36m245\u001b[0m - \u001b[33m\u001b[1mannotation type warning: Selenocysteine\u001b[0m\n",
      "\u001b[32m2024-05-05 11:58:02.749\u001b[0m | \u001b[33m\u001b[1mWARNING \u001b[0m | \u001b[36mannokit.gtf\u001b[0m:\u001b[36mread\u001b[0m:\u001b[36m245\u001b[0m - \u001b[33m\u001b[1mannotation type warning: Selenocysteine\u001b[0m\n",
      "\u001b[32m2024-05-05 11:58:03.121\u001b[0m | \u001b[33m\u001b[1mWARNING \u001b[0m | \u001b[36mannokit.gtf\u001b[0m:\u001b[36mread\u001b[0m:\u001b[36m245\u001b[0m - \u001b[33m\u001b[1mannotation type warning: Selenocysteine\u001b[0m\n",
      "\u001b[32m2024-05-05 11:58:03.123\u001b[0m | \u001b[33m\u001b[1mWARNING \u001b[0m | \u001b[36mannokit.gtf\u001b[0m:\u001b[36mread\u001b[0m:\u001b[36m245\u001b[0m - \u001b[33m\u001b[1mannotation type warning: Selenocysteine\u001b[0m\n"
     ]
    }
   ],
   "source": [
    "gtf_file = \"./test_data/Homo_sapiens.GRCh38.111.gtf\"\n",
    "gtf.read(gtf_file, name=\"hg38\", version=\"GRCh38\", URL=\"https://ftp.ensembl.org/pub/release-111/gtf/homo_sapiens/Homo_sapiens.GRCh38.111.gtf.gz\")"
   ]
  },
  {
   "cell_type": "code",
   "execution_count": 8,
   "id": "8fc7101f-21ff-4328-aa4e-c2e0f3350907",
   "metadata": {},
   "outputs": [
    {
     "data": {
      "text/plain": [
       "'1\\thavana\\tSelenocysteine\\t25802093\\t25802095\\t.\\t+\\t.\\tgene_id \"ENSG00000162430\"; gene_version \"18\"; transcript_id \"ENST00000361547\"; transcript_version \"7\"; gene_name \"SELENON\"; gene_source \"ensembl_havana\"; gene_biotype \"protein_coding\"; transcript_name \"SELENON-202\"; transcript_source \"havana\"; transcript_biotype \"protein_coding\"; tag \"CCDS\"; ccds_id \"CCDS41282\"; tag \"seleno\"; tag \"basic\"; tag \"Ensembl_canonical\"; tag \"MANE_Select\"; transcript_support_level \"1 (assigned to previous version 6)\";'"
      ]
     },
     "execution_count": 8,
     "metadata": {},
     "output_type": "execute_result"
    }
   ],
   "source": [
    "gtf.err[0]"
   ]
  },
  {
   "cell_type": "markdown",
   "id": "0460c7cf-dce5-46c6-aacc-1f360fd4a3dc",
   "metadata": {},
   "source": [
    "#### new anno_map"
   ]
  },
  {
   "cell_type": "code",
   "execution_count": 9,
   "id": "1de33fac-8fe8-4285-a509-39a287dde70f",
   "metadata": {},
   "outputs": [],
   "source": [
    "gtf = GTF()"
   ]
  },
  {
   "cell_type": "code",
   "execution_count": 10,
   "id": "ae94027e-f759-43c1-ae05-aa1ee86ad3a2",
   "metadata": {},
   "outputs": [],
   "source": [
    "gtf.read(gtf_file, name=\"hg38\", version=\"GRCh38\", \n",
    "         URL=\"https://ftp.ensembl.org/pub/release-111/gtf/homo_sapiens/Homo_sapiens.GRCh38.111.gtf.gz\",\n",
    "         anno_map=\"other,Selenocysteine\"\n",
    "        )"
   ]
  },
  {
   "cell_type": "code",
   "execution_count": 11,
   "id": "cc12545e-c117-4a20-9bd7-f476a8bab16e",
   "metadata": {},
   "outputs": [
    {
     "data": {
      "text/plain": [
       "[]"
      ]
     },
     "execution_count": 11,
     "metadata": {},
     "output_type": "execute_result"
    }
   ],
   "source": [
    "gtf.err"
   ]
  },
  {
   "cell_type": "code",
   "execution_count": 12,
   "id": "2058730a-f74b-4ba2-a496-1fc0da40b257",
   "metadata": {},
   "outputs": [
    {
     "data": {
      "text/plain": [
       "{'gene': 'gene',\n",
       " 'trans': 'transcript',\n",
       " 'exon': 'exon',\n",
       " 'CDS': 'CDS',\n",
       " 'start_codon': 'start_codon',\n",
       " 'stop_codon': 'stop_codon',\n",
       " 'UTR5': 'five_prime_utr',\n",
       " 'UTR3': 'three_prime_utr',\n",
       " 'other': 'Selenocysteine'}"
      ]
     },
     "execution_count": 12,
     "metadata": {},
     "output_type": "execute_result"
    }
   ],
   "source": [
    "gtf.anno_map"
   ]
  },
  {
   "cell_type": "code",
   "execution_count": 13,
   "id": "8e6d6a92-0731-4d57-910e-36cab5292646",
   "metadata": {},
   "outputs": [
    {
     "data": {
      "text/plain": [
       "'hg38'"
      ]
     },
     "execution_count": 13,
     "metadata": {},
     "output_type": "execute_result"
    }
   ],
   "source": [
    "gtf.name"
   ]
  },
  {
   "cell_type": "code",
   "execution_count": 14,
   "id": "5b8fe95d-95d9-468a-85fa-263bc78d833c",
   "metadata": {},
   "outputs": [
    {
     "data": {
      "text/plain": [
       "'GRCh38'"
      ]
     },
     "execution_count": 14,
     "metadata": {},
     "output_type": "execute_result"
    }
   ],
   "source": [
    "gtf.version"
   ]
  },
  {
   "cell_type": "code",
   "execution_count": 15,
   "id": "3170075f-7ad8-4bdb-8a58-399fc2cc22c0",
   "metadata": {},
   "outputs": [
    {
     "data": {
      "text/plain": [
       "'https://ftp.ensembl.org/pub/release-111/gtf/homo_sapiens/Homo_sapiens.GRCh38.111.gtf.gz'"
      ]
     },
     "execution_count": 15,
     "metadata": {},
     "output_type": "execute_result"
    }
   ],
   "source": [
    "gtf.URL"
   ]
  },
  {
   "cell_type": "markdown",
   "id": "c24c2e22-3e29-4986-b1c8-8cbbfc1d47e7",
   "metadata": {},
   "source": [
    "### interval search"
   ]
  },
  {
   "cell_type": "markdown",
   "id": "3223f98b-0ecc-4077-9490-6709e3612658",
   "metadata": {},
   "source": [
    "#### raw key"
   ]
  },
  {
   "cell_type": "code",
   "execution_count": 16,
   "id": "74b35c67-35e7-4fd6-b598-4608514de62a",
   "metadata": {},
   "outputs": [],
   "source": [
    "loc = \"1:200000:300000\""
   ]
  },
  {
   "cell_type": "code",
   "execution_count": 17,
   "id": "de30ef0e-699d-4485-8d45-47f079cc1fbe",
   "metadata": {},
   "outputs": [
    {
     "data": {
      "text/plain": [
       "[Interval(257864, 359681, 'ENSG00000292994'),\n",
       " Interval(258568, 259024, 'ENSG00000228463'),\n",
       " Interval(266855, 268655, 'ENSG00000286448')]"
      ]
     },
     "execution_count": 17,
     "metadata": {},
     "output_type": "execute_result"
    }
   ],
   "source": [
    "genes = gtf.searchs(loc)\n",
    "genes"
   ]
  },
  {
   "cell_type": "code",
   "execution_count": 18,
   "id": "42805e5b-64c3-43dc-9737-a6c055f63767",
   "metadata": {},
   "outputs": [
    {
     "data": {
      "text/plain": [
       "'ENSG00000292994'"
      ]
     },
     "execution_count": 18,
     "metadata": {},
     "output_type": "execute_result"
    }
   ],
   "source": [
    "genes[0].data"
   ]
  },
  {
   "cell_type": "markdown",
   "id": "434acebf-511c-4881-8b1f-288a79984e5b",
   "metadata": {},
   "source": [
    "#### chr key"
   ]
  },
  {
   "cell_type": "code",
   "execution_count": 19,
   "id": "83bd1217-d82c-4697-b4ae-1520e189b801",
   "metadata": {},
   "outputs": [],
   "source": [
    "loc = \"chr1:200000:300000\""
   ]
  },
  {
   "cell_type": "code",
   "execution_count": 20,
   "id": "8ae7ca65-9e2d-461a-8994-36c203335b41",
   "metadata": {},
   "outputs": [
    {
     "data": {
      "text/plain": [
       "[Interval(257864, 359681, 'ENSG00000292994'),\n",
       " Interval(258568, 259024, 'ENSG00000228463'),\n",
       " Interval(266855, 268655, 'ENSG00000286448')]"
      ]
     },
     "execution_count": 20,
     "metadata": {},
     "output_type": "execute_result"
    }
   ],
   "source": [
    "genes = gtf.searchs(loc)\n",
    "genes"
   ]
  },
  {
   "cell_type": "markdown",
   "id": "756c0bfb-3903-46ae-8ab1-61342c872c10",
   "metadata": {},
   "source": [
    "### name2id or id2name"
   ]
  },
  {
   "cell_type": "code",
   "execution_count": 25,
   "id": "9c478875-2213-4fb1-9cc9-fc33964c064e",
   "metadata": {},
   "outputs": [
    {
     "data": {
      "text/plain": [
       "{'ENSG00000188886': 'ASTL', 'ENSG00000228463': 'ENSG00000228463'}"
      ]
     },
     "execution_count": 25,
     "metadata": {},
     "output_type": "execute_result"
    }
   ],
   "source": [
    "# In the gtf file, if there is no gene name, it will be replaced by gene ID by default.\n",
    "gtf.maps(\"ENSG00000188886,ENSG00000228463\", mapType=\"i2n\")"
   ]
  },
  {
   "cell_type": "code",
   "execution_count": 26,
   "id": "7df9c1e4-2e66-42e0-984e-ec529f1d817d",
   "metadata": {},
   "outputs": [
    {
     "name": "stderr",
     "output_type": "stream",
     "text": [
      "\u001b[32m2024-05-05 12:01:05.727\u001b[0m | \u001b[33m\u001b[1mWARNING \u001b[0m | \u001b[36mannokit.gtf\u001b[0m:\u001b[36mmaps\u001b[0m:\u001b[36m290\u001b[0m - \u001b[33m\u001b[1mnot found geneid ENSG00010228463 in gtf\u001b[0m\n"
     ]
    }
   ],
   "source": [
    "dict_maps = gtf.maps(\"ENSG00000188886,ENSG00010228463\", mapType=\"i2n\")"
   ]
  },
  {
   "cell_type": "code",
   "execution_count": 27,
   "id": "8616c311-cc01-4d31-be61-cde7ee1fe7ec",
   "metadata": {},
   "outputs": [
    {
     "data": {
      "text/plain": [
       "{'ENSG00000188886': 'ASTL', 'ENSG00010228463': 'None'}"
      ]
     },
     "execution_count": 27,
     "metadata": {},
     "output_type": "execute_result"
    }
   ],
   "source": [
    "# If the query gene is not found in the gtf file, return 'None'\n",
    "dict_maps"
   ]
  },
  {
   "cell_type": "code",
   "execution_count": 28,
   "id": "284bb782-f701-45d3-adc4-1a272496929a",
   "metadata": {},
   "outputs": [
    {
     "data": {
      "text/plain": [
       "{'ASTL': 'ENSG00000188886', 'IGKV2-10': 'ENSG00000253278'}"
      ]
     },
     "execution_count": 28,
     "metadata": {},
     "output_type": "execute_result"
    }
   ],
   "source": [
    "gtf.maps(\"ASTL,IGKV2-10\", mapType=\"n2i\")"
   ]
  },
  {
   "cell_type": "code",
   "execution_count": 29,
   "id": "73a69219-e17a-4fa9-9b6c-7ef99b9424ed",
   "metadata": {},
   "outputs": [
    {
     "name": "stderr",
     "output_type": "stream",
     "text": [
      "\u001b[32m2024-05-05 12:01:18.687\u001b[0m | \u001b[33m\u001b[1mWARNING \u001b[0m | \u001b[36mannokit.gtf\u001b[0m:\u001b[36mmaps\u001b[0m:\u001b[36m282\u001b[0m - \u001b[33m\u001b[1mnot found genename IGKV2-11 in gtf\u001b[0m\n"
     ]
    },
    {
     "data": {
      "text/plain": [
       "{'ASTL': 'ENSG00000188886', 'IGKV2-11': 'None'}"
      ]
     },
     "execution_count": 29,
     "metadata": {},
     "output_type": "execute_result"
    }
   ],
   "source": [
    "gtf.maps(\"ASTL,IGKV2-11\", mapType=\"n2i\")"
   ]
  },
  {
   "cell_type": "markdown",
   "id": "7542ac2c-039a-4803-bf6b-2ed77121c0bd",
   "metadata": {},
   "source": [
    "### gene inquires"
   ]
  },
  {
   "cell_type": "code",
   "execution_count": 30,
   "id": "17d5982f-9447-4b3f-baaf-32fb577ea60d",
   "metadata": {},
   "outputs": [
    {
     "data": {
      "text/html": [
       "<div>\n",
       "<style scoped>\n",
       "    .dataframe tbody tr th:only-of-type {\n",
       "        vertical-align: middle;\n",
       "    }\n",
       "\n",
       "    .dataframe tbody tr th {\n",
       "        vertical-align: top;\n",
       "    }\n",
       "\n",
       "    .dataframe thead th {\n",
       "        text-align: right;\n",
       "    }\n",
       "</style>\n",
       "<table border=\"1\" class=\"dataframe\">\n",
       "  <thead>\n",
       "    <tr style=\"text-align: right;\">\n",
       "      <th></th>\n",
       "      <th>geneid</th>\n",
       "      <th>genename</th>\n",
       "      <th>chr</th>\n",
       "      <th>start</th>\n",
       "      <th>end</th>\n",
       "      <th>strand</th>\n",
       "    </tr>\n",
       "  </thead>\n",
       "  <tbody>\n",
       "    <tr>\n",
       "      <th>0</th>\n",
       "      <td>ENSG00000188886</td>\n",
       "      <td>ASTL</td>\n",
       "      <td>2</td>\n",
       "      <td>96122818</td>\n",
       "      <td>96138502</td>\n",
       "      <td>-</td>\n",
       "    </tr>\n",
       "    <tr>\n",
       "      <th>1</th>\n",
       "      <td>ENSG00000253278</td>\n",
       "      <td>IGKV2-10</td>\n",
       "      <td>2</td>\n",
       "      <td>89019992</td>\n",
       "      <td>89020686</td>\n",
       "      <td>-</td>\n",
       "    </tr>\n",
       "  </tbody>\n",
       "</table>\n",
       "</div>"
      ],
      "text/plain": [
       "            geneid  genename chr     start       end strand\n",
       "0  ENSG00000188886      ASTL   2  96122818  96138502      -\n",
       "1  ENSG00000253278  IGKV2-10   2  89019992  89020686      -"
      ]
     },
     "execution_count": 30,
     "metadata": {},
     "output_type": "execute_result"
    }
   ],
   "source": [
    "gtf.inquires(\"ENSG00000188886,ENSG00000253278\", itype=\"id\", ilevel=\"gene\")"
   ]
  },
  {
   "cell_type": "code",
   "execution_count": 31,
   "id": "d101c5d8-8c72-4208-a11b-193928aa8b74",
   "metadata": {},
   "outputs": [
    {
     "name": "stderr",
     "output_type": "stream",
     "text": [
      "\u001b[32m2024-05-05 12:01:30.516\u001b[0m | \u001b[33m\u001b[1mWARNING \u001b[0m | \u001b[36mannokit.gtf\u001b[0m:\u001b[36minquires\u001b[0m:\u001b[36m368\u001b[0m - \u001b[33m\u001b[1mnot found geneid ENSG00010228463 in gtf\u001b[0m\n"
     ]
    },
    {
     "data": {
      "text/html": [
       "<div>\n",
       "<style scoped>\n",
       "    .dataframe tbody tr th:only-of-type {\n",
       "        vertical-align: middle;\n",
       "    }\n",
       "\n",
       "    .dataframe tbody tr th {\n",
       "        vertical-align: top;\n",
       "    }\n",
       "\n",
       "    .dataframe thead th {\n",
       "        text-align: right;\n",
       "    }\n",
       "</style>\n",
       "<table border=\"1\" class=\"dataframe\">\n",
       "  <thead>\n",
       "    <tr style=\"text-align: right;\">\n",
       "      <th></th>\n",
       "      <th>geneid</th>\n",
       "      <th>genename</th>\n",
       "      <th>chr</th>\n",
       "      <th>start</th>\n",
       "      <th>end</th>\n",
       "      <th>strand</th>\n",
       "      <th>transid</th>\n",
       "      <th>transname</th>\n",
       "      <th>transstart</th>\n",
       "      <th>transend</th>\n",
       "    </tr>\n",
       "  </thead>\n",
       "  <tbody>\n",
       "    <tr>\n",
       "      <th>0</th>\n",
       "      <td>ENSG00000188886</td>\n",
       "      <td>ASTL</td>\n",
       "      <td>2</td>\n",
       "      <td>96122818</td>\n",
       "      <td>96138502</td>\n",
       "      <td>-</td>\n",
       "      <td>ENST00000342380</td>\n",
       "      <td>ASTL-201</td>\n",
       "      <td>96122818</td>\n",
       "      <td>96138502</td>\n",
       "    </tr>\n",
       "    <tr>\n",
       "      <th>1</th>\n",
       "      <td>ENSG00000188886</td>\n",
       "      <td>ASTL</td>\n",
       "      <td>2</td>\n",
       "      <td>96122818</td>\n",
       "      <td>96138502</td>\n",
       "      <td>-</td>\n",
       "      <td>ENST00000470582</td>\n",
       "      <td>ASTL-202</td>\n",
       "      <td>96133684</td>\n",
       "      <td>96137777</td>\n",
       "    </tr>\n",
       "    <tr>\n",
       "      <th>2</th>\n",
       "      <td>ENSG00010228463</td>\n",
       "      <td>-</td>\n",
       "      <td>-</td>\n",
       "      <td>0</td>\n",
       "      <td>0</td>\n",
       "      <td>-</td>\n",
       "      <td>-</td>\n",
       "      <td>-</td>\n",
       "      <td>0</td>\n",
       "      <td>0</td>\n",
       "    </tr>\n",
       "  </tbody>\n",
       "</table>\n",
       "</div>"
      ],
      "text/plain": [
       "            geneid genename chr     start       end strand          transid  \\\n",
       "0  ENSG00000188886     ASTL   2  96122818  96138502      -  ENST00000342380   \n",
       "1  ENSG00000188886     ASTL   2  96122818  96138502      -  ENST00000470582   \n",
       "2  ENSG00010228463        -   -         0         0      -                -   \n",
       "\n",
       "  transname  transstart  transend  \n",
       "0  ASTL-201    96122818  96138502  \n",
       "1  ASTL-202    96133684  96137777  \n",
       "2         -           0         0  "
      ]
     },
     "execution_count": 31,
     "metadata": {},
     "output_type": "execute_result"
    }
   ],
   "source": [
    "gtf.inquires(\"ENSG00000188886,ENSG00010228463\", itype=\"id\", ilevel=\"trans\")"
   ]
  },
  {
   "cell_type": "code",
   "execution_count": 33,
   "id": "2fa57b42-206d-49ee-b2e0-76dc1a519fc5",
   "metadata": {},
   "outputs": [
    {
     "name": "stderr",
     "output_type": "stream",
     "text": [
      "\u001b[32m2024-05-05 13:46:38.939\u001b[0m | \u001b[33m\u001b[1mWARNING \u001b[0m | \u001b[36mannokit.gtf\u001b[0m:\u001b[36minquires\u001b[0m:\u001b[36m443\u001b[0m - \u001b[33m\u001b[1mnot found geneid ENSG00010228463 in gtf\u001b[0m\n"
     ]
    },
    {
     "data": {
      "text/html": [
       "<div>\n",
       "<style scoped>\n",
       "    .dataframe tbody tr th:only-of-type {\n",
       "        vertical-align: middle;\n",
       "    }\n",
       "\n",
       "    .dataframe tbody tr th {\n",
       "        vertical-align: top;\n",
       "    }\n",
       "\n",
       "    .dataframe thead th {\n",
       "        text-align: right;\n",
       "    }\n",
       "</style>\n",
       "<table border=\"1\" class=\"dataframe\">\n",
       "  <thead>\n",
       "    <tr style=\"text-align: right;\">\n",
       "      <th></th>\n",
       "      <th>geneid</th>\n",
       "      <th>genename</th>\n",
       "      <th>chr</th>\n",
       "      <th>start</th>\n",
       "      <th>end</th>\n",
       "      <th>strand</th>\n",
       "      <th>transid</th>\n",
       "      <th>transname</th>\n",
       "      <th>transstart</th>\n",
       "      <th>transend</th>\n",
       "      <th>exonid</th>\n",
       "      <th>exonstart</th>\n",
       "      <th>exonend</th>\n",
       "    </tr>\n",
       "  </thead>\n",
       "  <tbody>\n",
       "    <tr>\n",
       "      <th>0</th>\n",
       "      <td>ENSG00000188886</td>\n",
       "      <td>ASTL</td>\n",
       "      <td>2</td>\n",
       "      <td>96122818</td>\n",
       "      <td>96138502</td>\n",
       "      <td>-</td>\n",
       "      <td>ENST00000342380</td>\n",
       "      <td>ASTL-201</td>\n",
       "      <td>96122818</td>\n",
       "      <td>96138502</td>\n",
       "      <td>ENSE00001404132</td>\n",
       "      <td>96138382</td>\n",
       "      <td>96138502</td>\n",
       "    </tr>\n",
       "    <tr>\n",
       "      <th>1</th>\n",
       "      <td>ENSG00000188886</td>\n",
       "      <td>ASTL</td>\n",
       "      <td>2</td>\n",
       "      <td>96122818</td>\n",
       "      <td>96138502</td>\n",
       "      <td>-</td>\n",
       "      <td>ENST00000342380</td>\n",
       "      <td>ASTL-201</td>\n",
       "      <td>96122818</td>\n",
       "      <td>96138502</td>\n",
       "      <td>ENSE00001384861</td>\n",
       "      <td>96137575</td>\n",
       "      <td>96137700</td>\n",
       "    </tr>\n",
       "    <tr>\n",
       "      <th>2</th>\n",
       "      <td>ENSG00000188886</td>\n",
       "      <td>ASTL</td>\n",
       "      <td>2</td>\n",
       "      <td>96122818</td>\n",
       "      <td>96138502</td>\n",
       "      <td>-</td>\n",
       "      <td>ENST00000342380</td>\n",
       "      <td>ASTL-201</td>\n",
       "      <td>96122818</td>\n",
       "      <td>96138502</td>\n",
       "      <td>ENSE00003563298</td>\n",
       "      <td>96135351</td>\n",
       "      <td>96135412</td>\n",
       "    </tr>\n",
       "    <tr>\n",
       "      <th>3</th>\n",
       "      <td>ENSG00000188886</td>\n",
       "      <td>ASTL</td>\n",
       "      <td>2</td>\n",
       "      <td>96122818</td>\n",
       "      <td>96138502</td>\n",
       "      <td>-</td>\n",
       "      <td>ENST00000342380</td>\n",
       "      <td>ASTL-201</td>\n",
       "      <td>96122818</td>\n",
       "      <td>96138502</td>\n",
       "      <td>ENSE00001374492</td>\n",
       "      <td>96133965</td>\n",
       "      <td>96134058</td>\n",
       "    </tr>\n",
       "    <tr>\n",
       "      <th>4</th>\n",
       "      <td>ENSG00000188886</td>\n",
       "      <td>ASTL</td>\n",
       "      <td>2</td>\n",
       "      <td>96122818</td>\n",
       "      <td>96138502</td>\n",
       "      <td>-</td>\n",
       "      <td>ENST00000342380</td>\n",
       "      <td>ASTL-201</td>\n",
       "      <td>96122818</td>\n",
       "      <td>96138502</td>\n",
       "      <td>ENSE00001382523</td>\n",
       "      <td>96133425</td>\n",
       "      <td>96133542</td>\n",
       "    </tr>\n",
       "    <tr>\n",
       "      <th>5</th>\n",
       "      <td>ENSG00000188886</td>\n",
       "      <td>ASTL</td>\n",
       "      <td>2</td>\n",
       "      <td>96122818</td>\n",
       "      <td>96138502</td>\n",
       "      <td>-</td>\n",
       "      <td>ENST00000342380</td>\n",
       "      <td>ASTL-201</td>\n",
       "      <td>96122818</td>\n",
       "      <td>96138502</td>\n",
       "      <td>ENSE00001391218</td>\n",
       "      <td>96132540</td>\n",
       "      <td>96132721</td>\n",
       "    </tr>\n",
       "    <tr>\n",
       "      <th>6</th>\n",
       "      <td>ENSG00000188886</td>\n",
       "      <td>ASTL</td>\n",
       "      <td>2</td>\n",
       "      <td>96122818</td>\n",
       "      <td>96138502</td>\n",
       "      <td>-</td>\n",
       "      <td>ENST00000342380</td>\n",
       "      <td>ASTL-201</td>\n",
       "      <td>96122818</td>\n",
       "      <td>96138502</td>\n",
       "      <td>ENSE00001366112</td>\n",
       "      <td>96130064</td>\n",
       "      <td>96130145</td>\n",
       "    </tr>\n",
       "    <tr>\n",
       "      <th>7</th>\n",
       "      <td>ENSG00000188886</td>\n",
       "      <td>ASTL</td>\n",
       "      <td>2</td>\n",
       "      <td>96122818</td>\n",
       "      <td>96138502</td>\n",
       "      <td>-</td>\n",
       "      <td>ENST00000342380</td>\n",
       "      <td>ASTL-201</td>\n",
       "      <td>96122818</td>\n",
       "      <td>96138502</td>\n",
       "      <td>ENSE00001364407</td>\n",
       "      <td>96129824</td>\n",
       "      <td>96129978</td>\n",
       "    </tr>\n",
       "    <tr>\n",
       "      <th>8</th>\n",
       "      <td>ENSG00000188886</td>\n",
       "      <td>ASTL</td>\n",
       "      <td>2</td>\n",
       "      <td>96122818</td>\n",
       "      <td>96138502</td>\n",
       "      <td>-</td>\n",
       "      <td>ENST00000342380</td>\n",
       "      <td>ASTL-201</td>\n",
       "      <td>96122818</td>\n",
       "      <td>96138502</td>\n",
       "      <td>ENSE00001369654</td>\n",
       "      <td>96122818</td>\n",
       "      <td>96124271</td>\n",
       "    </tr>\n",
       "    <tr>\n",
       "      <th>9</th>\n",
       "      <td>ENSG00000188886</td>\n",
       "      <td>ASTL</td>\n",
       "      <td>2</td>\n",
       "      <td>96122818</td>\n",
       "      <td>96138502</td>\n",
       "      <td>-</td>\n",
       "      <td>ENST00000470582</td>\n",
       "      <td>ASTL-202</td>\n",
       "      <td>96133684</td>\n",
       "      <td>96137777</td>\n",
       "      <td>ENSE00001840774</td>\n",
       "      <td>96137575</td>\n",
       "      <td>96137777</td>\n",
       "    </tr>\n",
       "    <tr>\n",
       "      <th>10</th>\n",
       "      <td>ENSG00000188886</td>\n",
       "      <td>ASTL</td>\n",
       "      <td>2</td>\n",
       "      <td>96122818</td>\n",
       "      <td>96138502</td>\n",
       "      <td>-</td>\n",
       "      <td>ENST00000470582</td>\n",
       "      <td>ASTL-202</td>\n",
       "      <td>96133684</td>\n",
       "      <td>96137777</td>\n",
       "      <td>ENSE00003489941</td>\n",
       "      <td>96135351</td>\n",
       "      <td>96135412</td>\n",
       "    </tr>\n",
       "    <tr>\n",
       "      <th>11</th>\n",
       "      <td>ENSG00000188886</td>\n",
       "      <td>ASTL</td>\n",
       "      <td>2</td>\n",
       "      <td>96122818</td>\n",
       "      <td>96138502</td>\n",
       "      <td>-</td>\n",
       "      <td>ENST00000470582</td>\n",
       "      <td>ASTL-202</td>\n",
       "      <td>96133684</td>\n",
       "      <td>96137777</td>\n",
       "      <td>ENSE00001952311</td>\n",
       "      <td>96133684</td>\n",
       "      <td>96134058</td>\n",
       "    </tr>\n",
       "    <tr>\n",
       "      <th>12</th>\n",
       "      <td>ENSG00010228463</td>\n",
       "      <td>-</td>\n",
       "      <td>-</td>\n",
       "      <td>0</td>\n",
       "      <td>0</td>\n",
       "      <td>-</td>\n",
       "      <td>-</td>\n",
       "      <td>-</td>\n",
       "      <td>0</td>\n",
       "      <td>0</td>\n",
       "      <td>-</td>\n",
       "      <td>0</td>\n",
       "      <td>0</td>\n",
       "    </tr>\n",
       "  </tbody>\n",
       "</table>\n",
       "</div>"
      ],
      "text/plain": [
       "             geneid genename chr     start       end strand          transid  \\\n",
       "0   ENSG00000188886     ASTL   2  96122818  96138502      -  ENST00000342380   \n",
       "1   ENSG00000188886     ASTL   2  96122818  96138502      -  ENST00000342380   \n",
       "2   ENSG00000188886     ASTL   2  96122818  96138502      -  ENST00000342380   \n",
       "3   ENSG00000188886     ASTL   2  96122818  96138502      -  ENST00000342380   \n",
       "4   ENSG00000188886     ASTL   2  96122818  96138502      -  ENST00000342380   \n",
       "5   ENSG00000188886     ASTL   2  96122818  96138502      -  ENST00000342380   \n",
       "6   ENSG00000188886     ASTL   2  96122818  96138502      -  ENST00000342380   \n",
       "7   ENSG00000188886     ASTL   2  96122818  96138502      -  ENST00000342380   \n",
       "8   ENSG00000188886     ASTL   2  96122818  96138502      -  ENST00000342380   \n",
       "9   ENSG00000188886     ASTL   2  96122818  96138502      -  ENST00000470582   \n",
       "10  ENSG00000188886     ASTL   2  96122818  96138502      -  ENST00000470582   \n",
       "11  ENSG00000188886     ASTL   2  96122818  96138502      -  ENST00000470582   \n",
       "12  ENSG00010228463        -   -         0         0      -                -   \n",
       "\n",
       "   transname  transstart  transend           exonid  exonstart   exonend  \n",
       "0   ASTL-201    96122818  96138502  ENSE00001404132   96138382  96138502  \n",
       "1   ASTL-201    96122818  96138502  ENSE00001384861   96137575  96137700  \n",
       "2   ASTL-201    96122818  96138502  ENSE00003563298   96135351  96135412  \n",
       "3   ASTL-201    96122818  96138502  ENSE00001374492   96133965  96134058  \n",
       "4   ASTL-201    96122818  96138502  ENSE00001382523   96133425  96133542  \n",
       "5   ASTL-201    96122818  96138502  ENSE00001391218   96132540  96132721  \n",
       "6   ASTL-201    96122818  96138502  ENSE00001366112   96130064  96130145  \n",
       "7   ASTL-201    96122818  96138502  ENSE00001364407   96129824  96129978  \n",
       "8   ASTL-201    96122818  96138502  ENSE00001369654   96122818  96124271  \n",
       "9   ASTL-202    96133684  96137777  ENSE00001840774   96137575  96137777  \n",
       "10  ASTL-202    96133684  96137777  ENSE00003489941   96135351  96135412  \n",
       "11  ASTL-202    96133684  96137777  ENSE00001952311   96133684  96134058  \n",
       "12         -           0         0                -          0         0  "
      ]
     },
     "execution_count": 33,
     "metadata": {},
     "output_type": "execute_result"
    }
   ],
   "source": [
    "gtf.inquires(\"ENSG00000188886,ENSG00010228463\", itype=\"id\", ilevel=\"exon\")"
   ]
  },
  {
   "cell_type": "markdown",
   "id": "d96a1a5d-a85b-4627-93b2-f5df62e6d92e",
   "metadata": {},
   "source": [
    "## CLI"
   ]
  },
  {
   "cell_type": "markdown",
   "id": "eb825448-6544-4d71-a9fa-3a92082a7a51",
   "metadata": {},
   "source": [
    "### searchs"
   ]
  },
  {
   "cell_type": "code",
   "execution_count": 4,
   "id": "3e75d12d-da7a-487d-ba31-6fde559243de",
   "metadata": {},
   "outputs": [
    {
     "name": "stdout",
     "output_type": "stream",
     "text": [
      "\u001b[32m2024-05-05 14:05:09.679\u001b[0m | \u001b[33m\u001b[1mWARNING \u001b[0m | \u001b[36mannokit.gtf\u001b[0m:\u001b[36mread\u001b[0m:\u001b[36m245\u001b[0m - \u001b[33m\u001b[1mannotation type warning: Selenocysteine\u001b[0m\n",
      "\u001b[32m2024-05-05 14:05:09.679\u001b[0m | \u001b[33m\u001b[1mWARNING \u001b[0m | \u001b[36mannokit.gtf\u001b[0m:\u001b[36mread\u001b[0m:\u001b[36m245\u001b[0m - \u001b[33m\u001b[1mannotation type warning: Selenocysteine\u001b[0m\n",
      "\u001b[32m2024-05-05 14:05:09.680\u001b[0m | \u001b[33m\u001b[1mWARNING \u001b[0m | \u001b[36mannokit.gtf\u001b[0m:\u001b[36mread\u001b[0m:\u001b[36m245\u001b[0m - \u001b[33m\u001b[1mannotation type warning: Selenocysteine\u001b[0m\n",
      "\u001b[32m2024-05-05 14:05:09.680\u001b[0m | \u001b[33m\u001b[1mWARNING \u001b[0m | \u001b[36mannokit.gtf\u001b[0m:\u001b[36mread\u001b[0m:\u001b[36m245\u001b[0m - \u001b[33m\u001b[1mannotation type warning: Selenocysteine\u001b[0m\n",
      "\u001b[32m2024-05-05 14:05:09.680\u001b[0m | \u001b[33m\u001b[1mWARNING \u001b[0m | \u001b[36mannokit.gtf\u001b[0m:\u001b[36mread\u001b[0m:\u001b[36m245\u001b[0m - \u001b[33m\u001b[1mannotation type warning: Selenocysteine\u001b[0m\n",
      "\u001b[32m2024-05-05 14:05:10.516\u001b[0m | \u001b[33m\u001b[1mWARNING \u001b[0m | \u001b[36mannokit.gtf\u001b[0m:\u001b[36mread\u001b[0m:\u001b[36m245\u001b[0m - \u001b[33m\u001b[1mannotation type warning: Selenocysteine\u001b[0m\n",
      "\u001b[32m2024-05-05 14:05:10.517\u001b[0m | \u001b[33m\u001b[1mWARNING \u001b[0m | \u001b[36mannokit.gtf\u001b[0m:\u001b[36mread\u001b[0m:\u001b[36m245\u001b[0m - \u001b[33m\u001b[1mannotation type warning: Selenocysteine\u001b[0m\n",
      "\u001b[32m2024-05-05 14:05:10.518\u001b[0m | \u001b[33m\u001b[1mWARNING \u001b[0m | \u001b[36mannokit.gtf\u001b[0m:\u001b[36mread\u001b[0m:\u001b[36m245\u001b[0m - \u001b[33m\u001b[1mannotation type warning: Selenocysteine\u001b[0m\n",
      "\u001b[32m2024-05-05 14:05:11.911\u001b[0m | \u001b[33m\u001b[1mWARNING \u001b[0m | \u001b[36mannokit.gtf\u001b[0m:\u001b[36mread\u001b[0m:\u001b[36m245\u001b[0m - \u001b[33m\u001b[1mannotation type warning: Selenocysteine\u001b[0m\n",
      "\u001b[32m2024-05-05 14:05:11.911\u001b[0m | \u001b[33m\u001b[1mWARNING \u001b[0m | \u001b[36mannokit.gtf\u001b[0m:\u001b[36mread\u001b[0m:\u001b[36m245\u001b[0m - \u001b[33m\u001b[1mannotation type warning: Selenocysteine\u001b[0m\n",
      "\u001b[32m2024-05-05 14:05:11.912\u001b[0m | \u001b[33m\u001b[1mWARNING \u001b[0m | \u001b[36mannokit.gtf\u001b[0m:\u001b[36mread\u001b[0m:\u001b[36m245\u001b[0m - \u001b[33m\u001b[1mannotation type warning: Selenocysteine\u001b[0m\n",
      "\u001b[32m2024-05-05 14:05:11.912\u001b[0m | \u001b[33m\u001b[1mWARNING \u001b[0m | \u001b[36mannokit.gtf\u001b[0m:\u001b[36mread\u001b[0m:\u001b[36m245\u001b[0m - \u001b[33m\u001b[1mannotation type warning: Selenocysteine\u001b[0m\n",
      "\u001b[32m2024-05-05 14:05:13.676\u001b[0m | \u001b[33m\u001b[1mWARNING \u001b[0m | \u001b[36mannokit.gtf\u001b[0m:\u001b[36mread\u001b[0m:\u001b[36m245\u001b[0m - \u001b[33m\u001b[1mannotation type warning: Selenocysteine\u001b[0m\n",
      "\u001b[32m2024-05-05 14:05:16.161\u001b[0m | \u001b[33m\u001b[1mWARNING \u001b[0m | \u001b[36mannokit.gtf\u001b[0m:\u001b[36mread\u001b[0m:\u001b[36m245\u001b[0m - \u001b[33m\u001b[1mannotation type warning: Selenocysteine\u001b[0m\n",
      "\u001b[32m2024-05-05 14:05:16.162\u001b[0m | \u001b[33m\u001b[1mWARNING \u001b[0m | \u001b[36mannokit.gtf\u001b[0m:\u001b[36mread\u001b[0m:\u001b[36m245\u001b[0m - \u001b[33m\u001b[1mannotation type warning: Selenocysteine\u001b[0m\n",
      "\u001b[32m2024-05-05 14:05:16.507\u001b[0m | \u001b[33m\u001b[1mWARNING \u001b[0m | \u001b[36mannokit.gtf\u001b[0m:\u001b[36mread\u001b[0m:\u001b[36m245\u001b[0m - \u001b[33m\u001b[1mannotation type warning: Selenocysteine\u001b[0m\n",
      "\u001b[32m2024-05-05 14:05:16.512\u001b[0m | \u001b[33m\u001b[1mWARNING \u001b[0m | \u001b[36mannokit.gtf\u001b[0m:\u001b[36mread\u001b[0m:\u001b[36m245\u001b[0m - \u001b[33m\u001b[1mannotation type warning: Selenocysteine\u001b[0m\n",
      "\u001b[32m2024-05-05 14:05:17.383\u001b[0m | \u001b[33m\u001b[1mWARNING \u001b[0m | \u001b[36mannokit.gtf\u001b[0m:\u001b[36mread\u001b[0m:\u001b[36m245\u001b[0m - \u001b[33m\u001b[1mannotation type warning: Selenocysteine\u001b[0m\n",
      "\u001b[32m2024-05-05 14:05:17.383\u001b[0m | \u001b[33m\u001b[1mWARNING \u001b[0m | \u001b[36mannokit.gtf\u001b[0m:\u001b[36mread\u001b[0m:\u001b[36m245\u001b[0m - \u001b[33m\u001b[1mannotation type warning: Selenocysteine\u001b[0m\n",
      "\u001b[32m2024-05-05 14:05:17.383\u001b[0m | \u001b[33m\u001b[1mWARNING \u001b[0m | \u001b[36mannokit.gtf\u001b[0m:\u001b[36mread\u001b[0m:\u001b[36m245\u001b[0m - \u001b[33m\u001b[1mannotation type warning: Selenocysteine\u001b[0m\n",
      "\u001b[32m2024-05-05 14:05:17.384\u001b[0m | \u001b[33m\u001b[1mWARNING \u001b[0m | \u001b[36mannokit.gtf\u001b[0m:\u001b[36mread\u001b[0m:\u001b[36m245\u001b[0m - \u001b[33m\u001b[1mannotation type warning: Selenocysteine\u001b[0m\n",
      "\u001b[32m2024-05-05 14:05:17.384\u001b[0m | \u001b[33m\u001b[1mWARNING \u001b[0m | \u001b[36mannokit.gtf\u001b[0m:\u001b[36mread\u001b[0m:\u001b[36m245\u001b[0m - \u001b[33m\u001b[1mannotation type warning: Selenocysteine\u001b[0m\n",
      "\u001b[32m2024-05-05 14:05:17.384\u001b[0m | \u001b[33m\u001b[1mWARNING \u001b[0m | \u001b[36mannokit.gtf\u001b[0m:\u001b[36mread\u001b[0m:\u001b[36m245\u001b[0m - \u001b[33m\u001b[1mannotation type warning: Selenocysteine\u001b[0m\n",
      "\u001b[32m2024-05-05 14:05:17.384\u001b[0m | \u001b[33m\u001b[1mWARNING \u001b[0m | \u001b[36mannokit.gtf\u001b[0m:\u001b[36mread\u001b[0m:\u001b[36m245\u001b[0m - \u001b[33m\u001b[1mannotation type warning: Selenocysteine\u001b[0m\n",
      "\u001b[32m2024-05-05 14:05:17.385\u001b[0m | \u001b[33m\u001b[1mWARNING \u001b[0m | \u001b[36mannokit.gtf\u001b[0m:\u001b[36mread\u001b[0m:\u001b[36m245\u001b[0m - \u001b[33m\u001b[1mannotation type warning: Selenocysteine\u001b[0m\n",
      "\u001b[32m2024-05-05 14:05:17.385\u001b[0m | \u001b[33m\u001b[1mWARNING \u001b[0m | \u001b[36mannokit.gtf\u001b[0m:\u001b[36mread\u001b[0m:\u001b[36m245\u001b[0m - \u001b[33m\u001b[1mannotation type warning: Selenocysteine\u001b[0m\n",
      "\u001b[32m2024-05-05 14:05:17.385\u001b[0m | \u001b[33m\u001b[1mWARNING \u001b[0m | \u001b[36mannokit.gtf\u001b[0m:\u001b[36mread\u001b[0m:\u001b[36m245\u001b[0m - \u001b[33m\u001b[1mannotation type warning: Selenocysteine\u001b[0m\n",
      "\u001b[32m2024-05-05 14:05:17.385\u001b[0m | \u001b[33m\u001b[1mWARNING \u001b[0m | \u001b[36mannokit.gtf\u001b[0m:\u001b[36mread\u001b[0m:\u001b[36m245\u001b[0m - \u001b[33m\u001b[1mannotation type warning: Selenocysteine\u001b[0m\n",
      "\u001b[32m2024-05-05 14:05:20.912\u001b[0m | \u001b[33m\u001b[1mWARNING \u001b[0m | \u001b[36mannokit.gtf\u001b[0m:\u001b[36mread\u001b[0m:\u001b[36m245\u001b[0m - \u001b[33m\u001b[1mannotation type warning: Selenocysteine\u001b[0m\n",
      "\u001b[32m2024-05-05 14:05:20.912\u001b[0m | \u001b[33m\u001b[1mWARNING \u001b[0m | \u001b[36mannokit.gtf\u001b[0m:\u001b[36mread\u001b[0m:\u001b[36m245\u001b[0m - \u001b[33m\u001b[1mannotation type warning: Selenocysteine\u001b[0m\n",
      "\u001b[32m2024-05-05 14:05:20.913\u001b[0m | \u001b[33m\u001b[1mWARNING \u001b[0m | \u001b[36mannokit.gtf\u001b[0m:\u001b[36mread\u001b[0m:\u001b[36m245\u001b[0m - \u001b[33m\u001b[1mannotation type warning: Selenocysteine\u001b[0m\n",
      "\u001b[32m2024-05-05 14:05:20.913\u001b[0m | \u001b[33m\u001b[1mWARNING \u001b[0m | \u001b[36mannokit.gtf\u001b[0m:\u001b[36mread\u001b[0m:\u001b[36m245\u001b[0m - \u001b[33m\u001b[1mannotation type warning: Selenocysteine\u001b[0m\n",
      "\u001b[32m2024-05-05 14:05:20.913\u001b[0m | \u001b[33m\u001b[1mWARNING \u001b[0m | \u001b[36mannokit.gtf\u001b[0m:\u001b[36mread\u001b[0m:\u001b[36m245\u001b[0m - \u001b[33m\u001b[1mannotation type warning: Selenocysteine\u001b[0m\n",
      "\u001b[32m2024-05-05 14:05:20.913\u001b[0m | \u001b[33m\u001b[1mWARNING \u001b[0m | \u001b[36mannokit.gtf\u001b[0m:\u001b[36mread\u001b[0m:\u001b[36m245\u001b[0m - \u001b[33m\u001b[1mannotation type warning: Selenocysteine\u001b[0m\n",
      "\u001b[32m2024-05-05 14:05:20.914\u001b[0m | \u001b[33m\u001b[1mWARNING \u001b[0m | \u001b[36mannokit.gtf\u001b[0m:\u001b[36mread\u001b[0m:\u001b[36m245\u001b[0m - \u001b[33m\u001b[1mannotation type warning: Selenocysteine\u001b[0m\n",
      "\u001b[32m2024-05-05 14:05:20.914\u001b[0m | \u001b[33m\u001b[1mWARNING \u001b[0m | \u001b[36mannokit.gtf\u001b[0m:\u001b[36mread\u001b[0m:\u001b[36m245\u001b[0m - \u001b[33m\u001b[1mannotation type warning: Selenocysteine\u001b[0m\n",
      "\u001b[32m2024-05-05 14:05:21.336\u001b[0m | \u001b[33m\u001b[1mWARNING \u001b[0m | \u001b[36mannokit.gtf\u001b[0m:\u001b[36mread\u001b[0m:\u001b[36m245\u001b[0m - \u001b[33m\u001b[1mannotation type warning: Selenocysteine\u001b[0m\n",
      "\u001b[32m2024-05-05 14:05:21.336\u001b[0m | \u001b[33m\u001b[1mWARNING \u001b[0m | \u001b[36mannokit.gtf\u001b[0m:\u001b[36mread\u001b[0m:\u001b[36m245\u001b[0m - \u001b[33m\u001b[1mannotation type warning: Selenocysteine\u001b[0m\n",
      "\u001b[32m2024-05-05 14:05:21.336\u001b[0m | \u001b[33m\u001b[1mWARNING \u001b[0m | \u001b[36mannokit.gtf\u001b[0m:\u001b[36mread\u001b[0m:\u001b[36m245\u001b[0m - \u001b[33m\u001b[1mannotation type warning: Selenocysteine\u001b[0m\n",
      "\u001b[32m2024-05-05 14:05:21.336\u001b[0m | \u001b[33m\u001b[1mWARNING \u001b[0m | \u001b[36mannokit.gtf\u001b[0m:\u001b[36mread\u001b[0m:\u001b[36m245\u001b[0m - \u001b[33m\u001b[1mannotation type warning: Selenocysteine\u001b[0m\n",
      "\u001b[32m2024-05-05 14:05:21.336\u001b[0m | \u001b[33m\u001b[1mWARNING \u001b[0m | \u001b[36mannokit.gtf\u001b[0m:\u001b[36mread\u001b[0m:\u001b[36m245\u001b[0m - \u001b[33m\u001b[1mannotation type warning: Selenocysteine\u001b[0m\n",
      "\u001b[32m2024-05-05 14:05:21.337\u001b[0m | \u001b[33m\u001b[1mWARNING \u001b[0m | \u001b[36mannokit.gtf\u001b[0m:\u001b[36mread\u001b[0m:\u001b[36m245\u001b[0m - \u001b[33m\u001b[1mannotation type warning: Selenocysteine\u001b[0m\n",
      "\u001b[32m2024-05-05 14:05:21.337\u001b[0m | \u001b[33m\u001b[1mWARNING \u001b[0m | \u001b[36mannokit.gtf\u001b[0m:\u001b[36mread\u001b[0m:\u001b[36m245\u001b[0m - \u001b[33m\u001b[1mannotation type warning: Selenocysteine\u001b[0m\n",
      "\u001b[32m2024-05-05 14:05:21.337\u001b[0m | \u001b[33m\u001b[1mWARNING \u001b[0m | \u001b[36mannokit.gtf\u001b[0m:\u001b[36mread\u001b[0m:\u001b[36m245\u001b[0m - \u001b[33m\u001b[1mannotation type warning: Selenocysteine\u001b[0m\n",
      "\u001b[32m2024-05-05 14:05:21.338\u001b[0m | \u001b[33m\u001b[1mWARNING \u001b[0m | \u001b[36mannokit.gtf\u001b[0m:\u001b[36mread\u001b[0m:\u001b[36m245\u001b[0m - \u001b[33m\u001b[1mannotation type warning: Selenocysteine\u001b[0m\n",
      "\u001b[32m2024-05-05 14:05:21.338\u001b[0m | \u001b[33m\u001b[1mWARNING \u001b[0m | \u001b[36mannokit.gtf\u001b[0m:\u001b[36mread\u001b[0m:\u001b[36m245\u001b[0m - \u001b[33m\u001b[1mannotation type warning: Selenocysteine\u001b[0m\n",
      "\u001b[32m2024-05-05 14:05:21.339\u001b[0m | \u001b[33m\u001b[1mWARNING \u001b[0m | \u001b[36mannokit.gtf\u001b[0m:\u001b[36mread\u001b[0m:\u001b[36m245\u001b[0m - \u001b[33m\u001b[1mannotation type warning: Selenocysteine\u001b[0m\n",
      "\u001b[32m2024-05-05 14:05:21.340\u001b[0m | \u001b[33m\u001b[1mWARNING \u001b[0m | \u001b[36mannokit.gtf\u001b[0m:\u001b[36mread\u001b[0m:\u001b[36m245\u001b[0m - \u001b[33m\u001b[1mannotation type warning: Selenocysteine\u001b[0m\n",
      "\u001b[32m2024-05-05 14:05:21.340\u001b[0m | \u001b[33m\u001b[1mWARNING \u001b[0m | \u001b[36mannokit.gtf\u001b[0m:\u001b[36mread\u001b[0m:\u001b[36m245\u001b[0m - \u001b[33m\u001b[1mannotation type warning: Selenocysteine\u001b[0m\n",
      "\u001b[32m2024-05-05 14:05:21.340\u001b[0m | \u001b[33m\u001b[1mWARNING \u001b[0m | \u001b[36mannokit.gtf\u001b[0m:\u001b[36mread\u001b[0m:\u001b[36m245\u001b[0m - \u001b[33m\u001b[1mannotation type warning: Selenocysteine\u001b[0m\n",
      "\u001b[32m2024-05-05 14:05:21.340\u001b[0m | \u001b[33m\u001b[1mWARNING \u001b[0m | \u001b[36mannokit.gtf\u001b[0m:\u001b[36mread\u001b[0m:\u001b[36m245\u001b[0m - \u001b[33m\u001b[1mannotation type warning: Selenocysteine\u001b[0m\n",
      "\u001b[32m2024-05-05 14:05:21.341\u001b[0m | \u001b[33m\u001b[1mWARNING \u001b[0m | \u001b[36mannokit.gtf\u001b[0m:\u001b[36mread\u001b[0m:\u001b[36m245\u001b[0m - \u001b[33m\u001b[1mannotation type warning: Selenocysteine\u001b[0m\n",
      "\u001b[32m2024-05-05 14:05:21.341\u001b[0m | \u001b[33m\u001b[1mWARNING \u001b[0m | \u001b[36mannokit.gtf\u001b[0m:\u001b[36mread\u001b[0m:\u001b[36m245\u001b[0m - \u001b[33m\u001b[1mannotation type warning: Selenocysteine\u001b[0m\n",
      "\u001b[32m2024-05-05 14:05:21.341\u001b[0m | \u001b[33m\u001b[1mWARNING \u001b[0m | \u001b[36mannokit.gtf\u001b[0m:\u001b[36mread\u001b[0m:\u001b[36m245\u001b[0m - \u001b[33m\u001b[1mannotation type warning: Selenocysteine\u001b[0m\n",
      "\u001b[32m2024-05-05 14:05:21.341\u001b[0m | \u001b[33m\u001b[1mWARNING \u001b[0m | \u001b[36mannokit.gtf\u001b[0m:\u001b[36mread\u001b[0m:\u001b[36m245\u001b[0m - \u001b[33m\u001b[1mannotation type warning: Selenocysteine\u001b[0m\n",
      "\u001b[32m2024-05-05 14:05:21.341\u001b[0m | \u001b[33m\u001b[1mWARNING \u001b[0m | \u001b[36mannokit.gtf\u001b[0m:\u001b[36mread\u001b[0m:\u001b[36m245\u001b[0m - \u001b[33m\u001b[1mannotation type warning: Selenocysteine\u001b[0m\n",
      "\u001b[32m2024-05-05 14:05:21.342\u001b[0m | \u001b[33m\u001b[1mWARNING \u001b[0m | \u001b[36mannokit.gtf\u001b[0m:\u001b[36mread\u001b[0m:\u001b[36m245\u001b[0m - \u001b[33m\u001b[1mannotation type warning: Selenocysteine\u001b[0m\n",
      "\u001b[32m2024-05-05 14:05:21.342\u001b[0m | \u001b[33m\u001b[1mWARNING \u001b[0m | \u001b[36mannokit.gtf\u001b[0m:\u001b[36mread\u001b[0m:\u001b[36m245\u001b[0m - \u001b[33m\u001b[1mannotation type warning: Selenocysteine\u001b[0m\n",
      "\u001b[32m2024-05-05 14:05:21.342\u001b[0m | \u001b[33m\u001b[1mWARNING \u001b[0m | \u001b[36mannokit.gtf\u001b[0m:\u001b[36mread\u001b[0m:\u001b[36m245\u001b[0m - \u001b[33m\u001b[1mannotation type warning: Selenocysteine\u001b[0m\n",
      "\u001b[32m2024-05-05 14:05:21.342\u001b[0m | \u001b[33m\u001b[1mWARNING \u001b[0m | \u001b[36mannokit.gtf\u001b[0m:\u001b[36mread\u001b[0m:\u001b[36m245\u001b[0m - \u001b[33m\u001b[1mannotation type warning: Selenocysteine\u001b[0m\n",
      "\u001b[32m2024-05-05 14:05:21.343\u001b[0m | \u001b[33m\u001b[1mWARNING \u001b[0m | \u001b[36mannokit.gtf\u001b[0m:\u001b[36mread\u001b[0m:\u001b[36m245\u001b[0m - \u001b[33m\u001b[1mannotation type warning: Selenocysteine\u001b[0m\n",
      "\u001b[32m2024-05-05 14:05:21.343\u001b[0m | \u001b[33m\u001b[1mWARNING \u001b[0m | \u001b[36mannokit.gtf\u001b[0m:\u001b[36mread\u001b[0m:\u001b[36m245\u001b[0m - \u001b[33m\u001b[1mannotation type warning: Selenocysteine\u001b[0m\n",
      "\u001b[32m2024-05-05 14:05:21.343\u001b[0m | \u001b[33m\u001b[1mWARNING \u001b[0m | \u001b[36mannokit.gtf\u001b[0m:\u001b[36mread\u001b[0m:\u001b[36m245\u001b[0m - \u001b[33m\u001b[1mannotation type warning: Selenocysteine\u001b[0m\n",
      "\u001b[32m2024-05-05 14:05:21.343\u001b[0m | \u001b[33m\u001b[1mWARNING \u001b[0m | \u001b[36mannokit.gtf\u001b[0m:\u001b[36mread\u001b[0m:\u001b[36m245\u001b[0m - \u001b[33m\u001b[1mannotation type warning: Selenocysteine\u001b[0m\n",
      "\u001b[32m2024-05-05 14:05:21.343\u001b[0m | \u001b[33m\u001b[1mWARNING \u001b[0m | \u001b[36mannokit.gtf\u001b[0m:\u001b[36mread\u001b[0m:\u001b[36m245\u001b[0m - \u001b[33m\u001b[1mannotation type warning: Selenocysteine\u001b[0m\n",
      "\u001b[32m2024-05-05 14:05:21.343\u001b[0m | \u001b[33m\u001b[1mWARNING \u001b[0m | \u001b[36mannokit.gtf\u001b[0m:\u001b[36mread\u001b[0m:\u001b[36m245\u001b[0m - \u001b[33m\u001b[1mannotation type warning: Selenocysteine\u001b[0m\n",
      "\u001b[32m2024-05-05 14:05:21.344\u001b[0m | \u001b[33m\u001b[1mWARNING \u001b[0m | \u001b[36mannokit.gtf\u001b[0m:\u001b[36mread\u001b[0m:\u001b[36m245\u001b[0m - \u001b[33m\u001b[1mannotation type warning: Selenocysteine\u001b[0m\n",
      "\u001b[32m2024-05-05 14:05:21.344\u001b[0m | \u001b[33m\u001b[1mWARNING \u001b[0m | \u001b[36mannokit.gtf\u001b[0m:\u001b[36mread\u001b[0m:\u001b[36m245\u001b[0m - \u001b[33m\u001b[1mannotation type warning: Selenocysteine\u001b[0m\n",
      "\u001b[32m2024-05-05 14:05:21.344\u001b[0m | \u001b[33m\u001b[1mWARNING \u001b[0m | \u001b[36mannokit.gtf\u001b[0m:\u001b[36mread\u001b[0m:\u001b[36m245\u001b[0m - \u001b[33m\u001b[1mannotation type warning: Selenocysteine\u001b[0m\n",
      "\u001b[32m2024-05-05 14:05:21.344\u001b[0m | \u001b[33m\u001b[1mWARNING \u001b[0m | \u001b[36mannokit.gtf\u001b[0m:\u001b[36mread\u001b[0m:\u001b[36m245\u001b[0m - \u001b[33m\u001b[1mannotation type warning: Selenocysteine\u001b[0m\n",
      "\u001b[32m2024-05-05 14:05:22.569\u001b[0m | \u001b[33m\u001b[1mWARNING \u001b[0m | \u001b[36mannokit.gtf\u001b[0m:\u001b[36mread\u001b[0m:\u001b[36m245\u001b[0m - \u001b[33m\u001b[1mannotation type warning: Selenocysteine\u001b[0m\n",
      "\u001b[32m2024-05-05 14:05:22.569\u001b[0m | \u001b[33m\u001b[1mWARNING \u001b[0m | \u001b[36mannokit.gtf\u001b[0m:\u001b[36mread\u001b[0m:\u001b[36m245\u001b[0m - \u001b[33m\u001b[1mannotation type warning: Selenocysteine\u001b[0m\n",
      "\u001b[32m2024-05-05 14:05:22.569\u001b[0m | \u001b[33m\u001b[1mWARNING \u001b[0m | \u001b[36mannokit.gtf\u001b[0m:\u001b[36mread\u001b[0m:\u001b[36m245\u001b[0m - \u001b[33m\u001b[1mannotation type warning: Selenocysteine\u001b[0m\n",
      "\u001b[32m2024-05-05 14:05:31.826\u001b[0m | \u001b[33m\u001b[1mWARNING \u001b[0m | \u001b[36mannokit.gtf\u001b[0m:\u001b[36mread\u001b[0m:\u001b[36m245\u001b[0m - \u001b[33m\u001b[1mannotation type warning: Selenocysteine\u001b[0m\n",
      "\u001b[32m2024-05-05 14:05:31.826\u001b[0m | \u001b[33m\u001b[1mWARNING \u001b[0m | \u001b[36mannokit.gtf\u001b[0m:\u001b[36mread\u001b[0m:\u001b[36m245\u001b[0m - \u001b[33m\u001b[1mannotation type warning: Selenocysteine\u001b[0m\n",
      "\u001b[32m2024-05-05 14:05:31.827\u001b[0m | \u001b[33m\u001b[1mWARNING \u001b[0m | \u001b[36mannokit.gtf\u001b[0m:\u001b[36mread\u001b[0m:\u001b[36m245\u001b[0m - \u001b[33m\u001b[1mannotation type warning: Selenocysteine\u001b[0m\n",
      "\u001b[32m2024-05-05 14:05:35.929\u001b[0m | \u001b[33m\u001b[1mWARNING \u001b[0m | \u001b[36mannokit.gtf\u001b[0m:\u001b[36mread\u001b[0m:\u001b[36m245\u001b[0m - \u001b[33m\u001b[1mannotation type warning: Selenocysteine\u001b[0m\n",
      "\u001b[32m2024-05-05 14:05:35.930\u001b[0m | \u001b[33m\u001b[1mWARNING \u001b[0m | \u001b[36mannokit.gtf\u001b[0m:\u001b[36mread\u001b[0m:\u001b[36m245\u001b[0m - \u001b[33m\u001b[1mannotation type warning: Selenocysteine\u001b[0m\n",
      "\u001b[32m2024-05-05 14:05:35.930\u001b[0m | \u001b[33m\u001b[1mWARNING \u001b[0m | \u001b[36mannokit.gtf\u001b[0m:\u001b[36mread\u001b[0m:\u001b[36m245\u001b[0m - \u001b[33m\u001b[1mannotation type warning: Selenocysteine\u001b[0m\n",
      "\u001b[32m2024-05-05 14:05:35.930\u001b[0m | \u001b[33m\u001b[1mWARNING \u001b[0m | \u001b[36mannokit.gtf\u001b[0m:\u001b[36mread\u001b[0m:\u001b[36m245\u001b[0m - \u001b[33m\u001b[1mannotation type warning: Selenocysteine\u001b[0m\n",
      "\u001b[32m2024-05-05 14:05:35.931\u001b[0m | \u001b[33m\u001b[1mWARNING \u001b[0m | \u001b[36mannokit.gtf\u001b[0m:\u001b[36mread\u001b[0m:\u001b[36m245\u001b[0m - \u001b[33m\u001b[1mannotation type warning: Selenocysteine\u001b[0m\n",
      "\u001b[32m2024-05-05 14:05:35.931\u001b[0m | \u001b[33m\u001b[1mWARNING \u001b[0m | \u001b[36mannokit.gtf\u001b[0m:\u001b[36mread\u001b[0m:\u001b[36m245\u001b[0m - \u001b[33m\u001b[1mannotation type warning: Selenocysteine\u001b[0m\n",
      "\u001b[32m2024-05-05 14:05:35.932\u001b[0m | \u001b[33m\u001b[1mWARNING \u001b[0m | \u001b[36mannokit.gtf\u001b[0m:\u001b[36mread\u001b[0m:\u001b[36m245\u001b[0m - \u001b[33m\u001b[1mannotation type warning: Selenocysteine\u001b[0m\n",
      "\u001b[32m2024-05-05 14:05:38.401\u001b[0m | \u001b[33m\u001b[1mWARNING \u001b[0m | \u001b[36mannokit.gtf\u001b[0m:\u001b[36mread\u001b[0m:\u001b[36m245\u001b[0m - \u001b[33m\u001b[1mannotation type warning: Selenocysteine\u001b[0m\n",
      "\u001b[32m2024-05-05 14:05:38.401\u001b[0m | \u001b[33m\u001b[1mWARNING \u001b[0m | \u001b[36mannokit.gtf\u001b[0m:\u001b[36mread\u001b[0m:\u001b[36m245\u001b[0m - \u001b[33m\u001b[1mannotation type warning: Selenocysteine\u001b[0m\n",
      "\u001b[32m2024-05-05 14:05:38.402\u001b[0m | \u001b[33m\u001b[1mWARNING \u001b[0m | \u001b[36mannokit.gtf\u001b[0m:\u001b[36mread\u001b[0m:\u001b[36m245\u001b[0m - \u001b[33m\u001b[1mannotation type warning: Selenocysteine\u001b[0m\n",
      "\u001b[32m2024-05-05 14:05:38.402\u001b[0m | \u001b[33m\u001b[1mWARNING \u001b[0m | \u001b[36mannokit.gtf\u001b[0m:\u001b[36mread\u001b[0m:\u001b[36m245\u001b[0m - \u001b[33m\u001b[1mannotation type warning: Selenocysteine\u001b[0m\n",
      "\u001b[32m2024-05-05 14:05:38.507\u001b[0m | \u001b[33m\u001b[1mWARNING \u001b[0m | \u001b[36mannokit.gtf\u001b[0m:\u001b[36mread\u001b[0m:\u001b[36m245\u001b[0m - \u001b[33m\u001b[1mannotation type warning: Selenocysteine\u001b[0m\n",
      "\u001b[32m2024-05-05 14:05:38.507\u001b[0m | \u001b[33m\u001b[1mWARNING \u001b[0m | \u001b[36mannokit.gtf\u001b[0m:\u001b[36mread\u001b[0m:\u001b[36m245\u001b[0m - \u001b[33m\u001b[1mannotation type warning: Selenocysteine\u001b[0m\n",
      "\u001b[32m2024-05-05 14:05:38.508\u001b[0m | \u001b[33m\u001b[1mWARNING \u001b[0m | \u001b[36mannokit.gtf\u001b[0m:\u001b[36mread\u001b[0m:\u001b[36m245\u001b[0m - \u001b[33m\u001b[1mannotation type warning: Selenocysteine\u001b[0m\n",
      "\u001b[32m2024-05-05 14:05:38.886\u001b[0m | \u001b[33m\u001b[1mWARNING \u001b[0m | \u001b[36mannokit.gtf\u001b[0m:\u001b[36mread\u001b[0m:\u001b[36m245\u001b[0m - \u001b[33m\u001b[1mannotation type warning: Selenocysteine\u001b[0m\n",
      "\u001b[32m2024-05-05 14:05:39.488\u001b[0m | \u001b[33m\u001b[1mWARNING \u001b[0m | \u001b[36mannokit.gtf\u001b[0m:\u001b[36mread\u001b[0m:\u001b[36m245\u001b[0m - \u001b[33m\u001b[1mannotation type warning: Selenocysteine\u001b[0m\n",
      "\u001b[32m2024-05-05 14:05:39.488\u001b[0m | \u001b[33m\u001b[1mWARNING \u001b[0m | \u001b[36mannokit.gtf\u001b[0m:\u001b[36mread\u001b[0m:\u001b[36m245\u001b[0m - \u001b[33m\u001b[1mannotation type warning: Selenocysteine\u001b[0m\n",
      "\u001b[32m2024-05-05 14:05:39.488\u001b[0m | \u001b[33m\u001b[1mWARNING \u001b[0m | \u001b[36mannokit.gtf\u001b[0m:\u001b[36mread\u001b[0m:\u001b[36m245\u001b[0m - \u001b[33m\u001b[1mannotation type warning: Selenocysteine\u001b[0m\n",
      "\u001b[32m2024-05-05 14:05:40.983\u001b[0m | \u001b[33m\u001b[1mWARNING \u001b[0m | \u001b[36mannokit.gtf\u001b[0m:\u001b[36mread\u001b[0m:\u001b[36m245\u001b[0m - \u001b[33m\u001b[1mannotation type warning: Selenocysteine\u001b[0m\n",
      "\u001b[32m2024-05-05 14:05:41.486\u001b[0m | \u001b[33m\u001b[1mWARNING \u001b[0m | \u001b[36mannokit.gtf\u001b[0m:\u001b[36mread\u001b[0m:\u001b[36m245\u001b[0m - \u001b[33m\u001b[1mannotation type warning: Selenocysteine\u001b[0m\n",
      "\u001b[32m2024-05-05 14:05:47.875\u001b[0m | \u001b[33m\u001b[1mWARNING \u001b[0m | \u001b[36mannokit.gtf\u001b[0m:\u001b[36mread\u001b[0m:\u001b[36m245\u001b[0m - \u001b[33m\u001b[1mannotation type warning: Selenocysteine\u001b[0m\n",
      "\u001b[32m2024-05-05 14:05:47.875\u001b[0m | \u001b[33m\u001b[1mWARNING \u001b[0m | \u001b[36mannokit.gtf\u001b[0m:\u001b[36mread\u001b[0m:\u001b[36m245\u001b[0m - \u001b[33m\u001b[1mannotation type warning: Selenocysteine\u001b[0m\n",
      "\u001b[32m2024-05-05 14:05:47.875\u001b[0m | \u001b[33m\u001b[1mWARNING \u001b[0m | \u001b[36mannokit.gtf\u001b[0m:\u001b[36mread\u001b[0m:\u001b[36m245\u001b[0m - \u001b[33m\u001b[1mannotation type warning: Selenocysteine\u001b[0m\n",
      "\u001b[32m2024-05-05 14:05:47.875\u001b[0m | \u001b[33m\u001b[1mWARNING \u001b[0m | \u001b[36mannokit.gtf\u001b[0m:\u001b[36mread\u001b[0m:\u001b[36m245\u001b[0m - \u001b[33m\u001b[1mannotation type warning: Selenocysteine\u001b[0m\n",
      "\u001b[32m2024-05-05 14:05:47.876\u001b[0m | \u001b[33m\u001b[1mWARNING \u001b[0m | \u001b[36mannokit.gtf\u001b[0m:\u001b[36mread\u001b[0m:\u001b[36m245\u001b[0m - \u001b[33m\u001b[1mannotation type warning: Selenocysteine\u001b[0m\n",
      "\u001b[32m2024-05-05 14:05:47.876\u001b[0m | \u001b[33m\u001b[1mWARNING \u001b[0m | \u001b[36mannokit.gtf\u001b[0m:\u001b[36mread\u001b[0m:\u001b[36m245\u001b[0m - \u001b[33m\u001b[1mannotation type warning: Selenocysteine\u001b[0m\n",
      "\u001b[32m2024-05-05 14:05:48.278\u001b[0m | \u001b[33m\u001b[1mWARNING \u001b[0m | \u001b[36mannokit.gtf\u001b[0m:\u001b[36mread\u001b[0m:\u001b[36m245\u001b[0m - \u001b[33m\u001b[1mannotation type warning: Selenocysteine\u001b[0m\n",
      "\u001b[32m2024-05-05 14:05:48.535\u001b[0m | \u001b[33m\u001b[1mWARNING \u001b[0m | \u001b[36mannokit.gtf\u001b[0m:\u001b[36mread\u001b[0m:\u001b[36m245\u001b[0m - \u001b[33m\u001b[1mannotation type warning: Selenocysteine\u001b[0m\n",
      "\u001b[32m2024-05-05 14:05:48.535\u001b[0m | \u001b[33m\u001b[1mWARNING \u001b[0m | \u001b[36mannokit.gtf\u001b[0m:\u001b[36mread\u001b[0m:\u001b[36m245\u001b[0m - \u001b[33m\u001b[1mannotation type warning: Selenocysteine\u001b[0m\n",
      "\u001b[32m2024-05-05 14:05:48.536\u001b[0m | \u001b[33m\u001b[1mWARNING \u001b[0m | \u001b[36mannokit.gtf\u001b[0m:\u001b[36mread\u001b[0m:\u001b[36m245\u001b[0m - \u001b[33m\u001b[1mannotation type warning: Selenocysteine\u001b[0m\n",
      "\u001b[32m2024-05-05 14:05:48.536\u001b[0m | \u001b[33m\u001b[1mWARNING \u001b[0m | \u001b[36mannokit.gtf\u001b[0m:\u001b[36mread\u001b[0m:\u001b[36m245\u001b[0m - \u001b[33m\u001b[1mannotation type warning: Selenocysteine\u001b[0m\n",
      "\u001b[32m2024-05-05 14:05:48.536\u001b[0m | \u001b[33m\u001b[1mWARNING \u001b[0m | \u001b[36mannokit.gtf\u001b[0m:\u001b[36mread\u001b[0m:\u001b[36m245\u001b[0m - \u001b[33m\u001b[1mannotation type warning: Selenocysteine\u001b[0m\n",
      "\u001b[32m2024-05-05 14:05:48.537\u001b[0m | \u001b[33m\u001b[1mWARNING \u001b[0m | \u001b[36mannokit.gtf\u001b[0m:\u001b[36mread\u001b[0m:\u001b[36m245\u001b[0m - \u001b[33m\u001b[1mannotation type warning: Selenocysteine\u001b[0m\n",
      "\u001b[32m2024-05-05 14:05:48.537\u001b[0m | \u001b[33m\u001b[1mWARNING \u001b[0m | \u001b[36mannokit.gtf\u001b[0m:\u001b[36mread\u001b[0m:\u001b[36m245\u001b[0m - \u001b[33m\u001b[1mannotation type warning: Selenocysteine\u001b[0m\n",
      "\u001b[32m2024-05-05 14:05:48.537\u001b[0m | \u001b[33m\u001b[1mWARNING \u001b[0m | \u001b[36mannokit.gtf\u001b[0m:\u001b[36mread\u001b[0m:\u001b[36m245\u001b[0m - \u001b[33m\u001b[1mannotation type warning: Selenocysteine\u001b[0m\n",
      "\u001b[32m2024-05-05 14:05:48.537\u001b[0m | \u001b[33m\u001b[1mWARNING \u001b[0m | \u001b[36mannokit.gtf\u001b[0m:\u001b[36mread\u001b[0m:\u001b[36m245\u001b[0m - \u001b[33m\u001b[1mannotation type warning: Selenocysteine\u001b[0m\n",
      "\u001b[32m2024-05-05 14:05:48.538\u001b[0m | \u001b[33m\u001b[1mWARNING \u001b[0m | \u001b[36mannokit.gtf\u001b[0m:\u001b[36mread\u001b[0m:\u001b[36m245\u001b[0m - \u001b[33m\u001b[1mannotation type warning: Selenocysteine\u001b[0m\n",
      "\u001b[32m2024-05-05 14:05:48.538\u001b[0m | \u001b[33m\u001b[1mWARNING \u001b[0m | \u001b[36mannokit.gtf\u001b[0m:\u001b[36mread\u001b[0m:\u001b[36m245\u001b[0m - \u001b[33m\u001b[1mannotation type warning: Selenocysteine\u001b[0m\n",
      "\u001b[32m2024-05-05 14:05:48.538\u001b[0m | \u001b[33m\u001b[1mWARNING \u001b[0m | \u001b[36mannokit.gtf\u001b[0m:\u001b[36mread\u001b[0m:\u001b[36m245\u001b[0m - \u001b[33m\u001b[1mannotation type warning: Selenocysteine\u001b[0m\n",
      "\u001b[32m2024-05-05 14:05:48.538\u001b[0m | \u001b[33m\u001b[1mWARNING \u001b[0m | \u001b[36mannokit.gtf\u001b[0m:\u001b[36mread\u001b[0m:\u001b[36m245\u001b[0m - \u001b[33m\u001b[1mannotation type warning: Selenocysteine\u001b[0m\n",
      "\u001b[32m2024-05-05 14:05:48.539\u001b[0m | \u001b[33m\u001b[1mWARNING \u001b[0m | \u001b[36mannokit.gtf\u001b[0m:\u001b[36mread\u001b[0m:\u001b[36m245\u001b[0m - \u001b[33m\u001b[1mannotation type warning: Selenocysteine\u001b[0m\n",
      "\u001b[32m2024-05-05 14:05:48.539\u001b[0m | \u001b[33m\u001b[1mWARNING \u001b[0m | \u001b[36mannokit.gtf\u001b[0m:\u001b[36mread\u001b[0m:\u001b[36m245\u001b[0m - \u001b[33m\u001b[1mannotation type warning: Selenocysteine\u001b[0m\n",
      "\u001b[32m2024-05-05 14:05:49.149\u001b[0m | \u001b[33m\u001b[1mWARNING \u001b[0m | \u001b[36mannokit.gtf\u001b[0m:\u001b[36mread\u001b[0m:\u001b[36m245\u001b[0m - \u001b[33m\u001b[1mannotation type warning: Selenocysteine\u001b[0m\n",
      "\u001b[32m2024-05-05 14:05:49.150\u001b[0m | \u001b[33m\u001b[1mWARNING \u001b[0m | \u001b[36mannokit.gtf\u001b[0m:\u001b[36mread\u001b[0m:\u001b[36m245\u001b[0m - \u001b[33m\u001b[1mannotation type warning: Selenocysteine\u001b[0m\n",
      "\u001b[32m2024-05-05 14:05:49.151\u001b[0m | \u001b[33m\u001b[1mWARNING \u001b[0m | \u001b[36mannokit.gtf\u001b[0m:\u001b[36mread\u001b[0m:\u001b[36m245\u001b[0m - \u001b[33m\u001b[1mannotation type warning: Selenocysteine\u001b[0m\n",
      "\u001b[32m2024-05-05 14:05:49.151\u001b[0m | \u001b[33m\u001b[1mWARNING \u001b[0m | \u001b[36mannokit.gtf\u001b[0m:\u001b[36mread\u001b[0m:\u001b[36m245\u001b[0m - \u001b[33m\u001b[1mannotation type warning: Selenocysteine\u001b[0m\n",
      "\u001b[32m2024-05-05 14:05:49.152\u001b[0m | \u001b[33m\u001b[1mWARNING \u001b[0m | \u001b[36mannokit.gtf\u001b[0m:\u001b[36mread\u001b[0m:\u001b[36m245\u001b[0m - \u001b[33m\u001b[1mannotation type warning: Selenocysteine\u001b[0m\n",
      "\u001b[32m2024-05-05 14:05:49.152\u001b[0m | \u001b[33m\u001b[1mWARNING \u001b[0m | \u001b[36mannokit.gtf\u001b[0m:\u001b[36mread\u001b[0m:\u001b[36m245\u001b[0m - \u001b[33m\u001b[1mannotation type warning: Selenocysteine\u001b[0m\n",
      "\u001b[32m2024-05-05 14:05:49.153\u001b[0m | \u001b[33m\u001b[1mWARNING \u001b[0m | \u001b[36mannokit.gtf\u001b[0m:\u001b[36mread\u001b[0m:\u001b[36m245\u001b[0m - \u001b[33m\u001b[1mannotation type warning: Selenocysteine\u001b[0m\n",
      "\u001b[32m2024-05-05 14:05:49.153\u001b[0m | \u001b[33m\u001b[1mWARNING \u001b[0m | \u001b[36mannokit.gtf\u001b[0m:\u001b[36mread\u001b[0m:\u001b[36m245\u001b[0m - \u001b[33m\u001b[1mannotation type warning: Selenocysteine\u001b[0m\n",
      "\u001b[32m2024-05-05 14:05:49.153\u001b[0m | \u001b[33m\u001b[1mWARNING \u001b[0m | \u001b[36mannokit.gtf\u001b[0m:\u001b[36mread\u001b[0m:\u001b[36m245\u001b[0m - \u001b[33m\u001b[1mannotation type warning: Selenocysteine\u001b[0m\n",
      "\u001b[32m2024-05-05 14:05:49.382\u001b[0m | \u001b[33m\u001b[1mWARNING \u001b[0m | \u001b[36mannokit.gtf\u001b[0m:\u001b[36mread\u001b[0m:\u001b[36m245\u001b[0m - \u001b[33m\u001b[1mannotation type warning: Selenocysteine\u001b[0m\n",
      "\u001b[32m2024-05-05 14:05:49.657\u001b[0m | \u001b[33m\u001b[1mWARNING \u001b[0m | \u001b[36mannokit.gtf\u001b[0m:\u001b[36mread\u001b[0m:\u001b[36m245\u001b[0m - \u001b[33m\u001b[1mannotation type warning: Selenocysteine\u001b[0m\n",
      "\u001b[32m2024-05-05 14:05:49.658\u001b[0m | \u001b[33m\u001b[1mWARNING \u001b[0m | \u001b[36mannokit.gtf\u001b[0m:\u001b[36mread\u001b[0m:\u001b[36m245\u001b[0m - \u001b[33m\u001b[1mannotation type warning: Selenocysteine\u001b[0m\n"
     ]
    }
   ],
   "source": [
    "# default anno_map with log\n",
    "!AnnoGtf -t searchs -l 1:200000:300000 -g ./test_data/Homo_sapiens.GRCh38.111.gtf -od test_searchs -o test_hg38 -log test_hg38"
   ]
  },
  {
   "cell_type": "code",
   "execution_count": 2,
   "id": "0645e17e-4909-40f9-a1cb-dad7e654e0a4",
   "metadata": {},
   "outputs": [
    {
     "name": "stdout",
     "output_type": "stream",
     "text": [
      "warning test_searchs exist\n"
     ]
    }
   ],
   "source": [
    "# new anno_map\n",
    "!AnnoGtf -t searchs -l 1:200000:300000 -g ./test_data/Homo_sapiens.GRCh38.111.gtf -od test_searchs -o test_hg38_map -log test_hg38_map -am other,Selenocysteine"
   ]
  },
  {
   "cell_type": "markdown",
   "id": "22a7935d-a861-4c13-b412-cb78f6f3b1e2",
   "metadata": {},
   "source": [
    "### map"
   ]
  },
  {
   "cell_type": "code",
   "execution_count": 10,
   "id": "d1e62ce3-2718-42ab-ae38-99cc5e8b4974",
   "metadata": {},
   "outputs": [
    {
     "name": "stdout",
     "output_type": "stream",
     "text": [
      "\u001b[32m2024-05-05 14:19:13.466\u001b[0m | \u001b[33m\u001b[1mWARNING \u001b[0m | \u001b[36mannokit.gtf\u001b[0m:\u001b[36mmaps\u001b[0m:\u001b[36m290\u001b[0m - \u001b[33m\u001b[1mnot found geneid ENSG00010228463 in gtf\u001b[0m\n"
     ]
    }
   ],
   "source": [
    "!AnnoGtf -t maps -g test_data/Homo_sapiens.GRCh38.111.gtf -m i2n -gs ENSG00000188886,ENSG00010228463 -o test_hg38 -od test_maps -am other,Selenocysteine"
   ]
  },
  {
   "cell_type": "code",
   "execution_count": 1,
   "id": "c868b9c5-2d09-4597-9409-72a9adab7c02",
   "metadata": {},
   "outputs": [
    {
     "name": "stdout",
     "output_type": "stream",
     "text": [
      "warning test_maps exist\n",
      "\u001b[32m2024-05-05 14:29:10.574\u001b[0m | \u001b[33m\u001b[1mWARNING \u001b[0m | \u001b[36mannokit.gtf\u001b[0m:\u001b[36mmaps\u001b[0m:\u001b[36m290\u001b[0m - \u001b[33m\u001b[1mnot found geneid ENSG00010228463 in gtf\u001b[0m\n"
     ]
    }
   ],
   "source": [
    "# file\n",
    "!AnnoGtf -t maps -g test_data/Homo_sapiens.GRCh38.111.gtf -m i2n -gf geneid_map.txt -o test_hg38_file -od test_maps -am other,Selenocysteine"
   ]
  },
  {
   "cell_type": "markdown",
   "id": "66f426d1-11cc-4524-93aa-377e7f51a540",
   "metadata": {},
   "source": [
    "### inquires"
   ]
  },
  {
   "cell_type": "code",
   "execution_count": 6,
   "id": "1b1a3809-92fb-48a3-a33a-f988b631ad62",
   "metadata": {},
   "outputs": [],
   "source": [
    "!AnnoGtf -t inquires -g test_data/Homo_sapiens.GRCh38.111.gtf -it id -il gene -gs  ENSG00000188886,ENSG00000253278 -o test_hg38_genes -od test_inquires -am other,Selenocysteine"
   ]
  },
  {
   "cell_type": "code",
   "execution_count": 7,
   "id": "f7af5d99-e517-4cbc-9327-ae67ce5d1efa",
   "metadata": {},
   "outputs": [
    {
     "name": "stdout",
     "output_type": "stream",
     "text": [
      "warning test_inquires exist\n"
     ]
    }
   ],
   "source": [
    "# ilevel=trans\n",
    "!AnnoGtf -t inquires -g test_data/Homo_sapiens.GRCh38.111.gtf -it id -il trans -gs  ENSG00000188886,ENSG00000253278 -o test_hg38_trans -od test_inquires -am other,Selenocysteine"
   ]
  },
  {
   "cell_type": "code",
   "execution_count": 9,
   "id": "9d7a0f2d-57ec-4aea-8557-a7b3753f7a39",
   "metadata": {},
   "outputs": [
    {
     "name": "stdout",
     "output_type": "stream",
     "text": [
      "warning test_inquires exist\n"
     ]
    }
   ],
   "source": [
    "# file genename\n",
    "!AnnoGtf -t inquires -g test_data/Homo_sapiens.GRCh38.111.gtf -it name -il trans -gf genename_inquires.txt -o test_hg38_file -od test_inquires -am other,Selenocysteine"
   ]
  }
 ],
 "metadata": {
  "kernelspec": {
   "display_name": "Python 3 (ipykernel)",
   "language": "python",
   "name": "python3"
  },
  "language_info": {
   "codemirror_mode": {
    "name": "ipython",
    "version": 3
   },
   "file_extension": ".py",
   "mimetype": "text/x-python",
   "name": "python",
   "nbconvert_exporter": "python",
   "pygments_lexer": "ipython3",
   "version": "3.9.19"
  }
 },
 "nbformat": 4,
 "nbformat_minor": 5
}
