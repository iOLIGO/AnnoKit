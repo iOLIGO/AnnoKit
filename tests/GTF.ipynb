{
 "cells": [
  {
   "cell_type": "markdown",
   "id": "0dfa6e78-51a8-414c-9505-6fa2b76c2a2a",
   "metadata": {},
   "source": [
    "# GTF"
   ]
  },
  {
   "cell_type": "code",
   "execution_count": 4,
   "id": "fffba0e9-25e9-4863-af9c-8aee7c8feb8b",
   "metadata": {},
   "outputs": [],
   "source": [
    "from annokit.gtf import GTF"
   ]
  },
  {
   "cell_type": "code",
   "execution_count": 5,
   "id": "ede993a8-1042-4c5b-b906-c9025731783c",
   "metadata": {},
   "outputs": [],
   "source": [
    "gtf = GTF()"
   ]
  },
  {
   "cell_type": "markdown",
   "id": "8f41ca24-5777-426b-addb-f45f448f62a0",
   "metadata": {},
   "source": [
    "## annotation type map"
   ]
  },
  {
   "cell_type": "code",
   "execution_count": 6,
   "id": "51b03508-d27d-4667-b86b-b101d3ffed73",
   "metadata": {},
   "outputs": [
    {
     "data": {
      "text/plain": [
       "{'gene': 'gene',\n",
       " 'trans': 'transcript',\n",
       " 'exon': 'exon',\n",
       " 'CDS': 'CDS',\n",
       " 'start_codon': 'start_codon',\n",
       " 'stop_codon': 'stop_codon',\n",
       " 'UTR5': 'five_prime_utr',\n",
       " 'UTR3': 'three_prime_utr',\n",
       " 'other': 'other'}"
      ]
     },
     "execution_count": 6,
     "metadata": {},
     "output_type": "execute_result"
    }
   ],
   "source": [
    "gtf.anno_map"
   ]
  },
  {
   "cell_type": "markdown",
   "id": "5f8ca5ec-a180-4629-b9ae-b3f9e03c28ac",
   "metadata": {},
   "source": [
    "## gtf file read"
   ]
  },
  {
   "cell_type": "code",
   "execution_count": 7,
   "id": "ed19f01f-afb5-45bd-8f80-77a1be786cc9",
   "metadata": {},
   "outputs": [
    {
     "name": "stderr",
     "output_type": "stream",
     "text": [
      "/mnt/d/WSL/minconda/conda/envs/oligo/lib/python3.9/site-packages/annokit/gtf.py:245: Warning: annotation type err: Selenocysteine\n",
      "  warnings.warn(f\"annotation type err: {anno_type}\", Warning)\n"
     ]
    }
   ],
   "source": [
    "gtf_file = \"./test_data/Homo_sapiens.GRCh38.111.gtf\"\n",
    "gtf.read(gtf_file, name=\"hg38\", version=\"GRCh38\", URL=\"https://ftp.ensembl.org/pub/release-111/gtf/homo_sapiens/Homo_sapiens.GRCh38.111.gtf.gz\")"
   ]
  },
  {
   "cell_type": "code",
   "execution_count": 8,
   "id": "8fc7101f-21ff-4328-aa4e-c2e0f3350907",
   "metadata": {},
   "outputs": [
    {
     "data": {
      "text/plain": [
       "'1\\thavana\\tSelenocysteine\\t25802093\\t25802095\\t.\\t+\\t.\\tgene_id \"ENSG00000162430\"; gene_version \"18\"; transcript_id \"ENST00000361547\"; transcript_version \"7\"; gene_name \"SELENON\"; gene_source \"ensembl_havana\"; gene_biotype \"protein_coding\"; transcript_name \"SELENON-202\"; transcript_source \"havana\"; transcript_biotype \"protein_coding\"; tag \"CCDS\"; ccds_id \"CCDS41282\"; tag \"seleno\"; tag \"basic\"; tag \"Ensembl_canonical\"; tag \"MANE_Select\"; transcript_support_level \"1 (assigned to previous version 6)\";'"
      ]
     },
     "execution_count": 8,
     "metadata": {},
     "output_type": "execute_result"
    }
   ],
   "source": [
    "gtf.err[0]"
   ]
  },
  {
   "cell_type": "code",
   "execution_count": 9,
   "id": "2ad907c2-f54f-44e8-a8d7-37f00d15f8b1",
   "metadata": {},
   "outputs": [
    {
     "data": {
      "text/plain": [
       "'hg38'"
      ]
     },
     "execution_count": 9,
     "metadata": {},
     "output_type": "execute_result"
    }
   ],
   "source": [
    "gtf.name"
   ]
  },
  {
   "cell_type": "markdown",
   "id": "c24c2e22-3e29-4986-b1c8-8cbbfc1d47e7",
   "metadata": {},
   "source": [
    "## interval search"
   ]
  },
  {
   "cell_type": "code",
   "execution_count": 10,
   "id": "4aec61c9-437f-4231-8a98-a4c9670d2675",
   "metadata": {},
   "outputs": [
    {
     "data": {
      "text/plain": [
       "dict_keys(['1', '2', '3', '4', '5', '6', '7', 'X', '8', '9', '11', '10', '12', '13', '14', '15', '16', '17', '18', '20', '19', 'Y', '22', '21', 'MT', 'KI270728.1', 'KI270727.1', 'KI270442.1', 'GL000225.1', 'GL000009.2', 'GL000194.1', 'GL000205.2', 'GL000195.1', 'KI270733.1', 'GL000219.1', 'GL000216.2', 'KI270744.1', 'KI270734.1', 'GL000213.1', 'GL000220.1', 'GL000218.1', 'KI270731.1', 'KI270750.1', 'KI270721.1', 'KI270726.1', 'KI270711.1', 'KI270713.1'])"
      ]
     },
     "execution_count": 10,
     "metadata": {},
     "output_type": "execute_result"
    }
   ],
   "source": [
    "gtf.genes_interval.keys()"
   ]
  },
  {
   "cell_type": "code",
   "execution_count": 11,
   "id": "74b35c67-35e7-4fd6-b598-4608514de62a",
   "metadata": {},
   "outputs": [],
   "source": [
    "loc = \"1:200000:300000\""
   ]
  },
  {
   "cell_type": "code",
   "execution_count": 17,
   "id": "de30ef0e-699d-4485-8d45-47f079cc1fbe",
   "metadata": {},
   "outputs": [
    {
     "data": {
      "text/plain": [
       "{Interval(257864, 359681, 'ENSG00000292994'),\n",
       " Interval(258568, 259024, 'ENSG00000228463'),\n",
       " Interval(266855, 268655, 'ENSG00000286448')}"
      ]
     },
     "execution_count": 17,
     "metadata": {},
     "output_type": "execute_result"
    }
   ],
   "source": [
    "gtf.genes_interval[\"1\"][200000:300000]"
   ]
  }
 ],
 "metadata": {
  "kernelspec": {
   "display_name": "Python 3 (ipykernel)",
   "language": "python",
   "name": "python3"
  },
  "language_info": {
   "codemirror_mode": {
    "name": "ipython",
    "version": 3
   },
   "file_extension": ".py",
   "mimetype": "text/x-python",
   "name": "python",
   "nbconvert_exporter": "python",
   "pygments_lexer": "ipython3",
   "version": "3.9.19"
  }
 },
 "nbformat": 4,
 "nbformat_minor": 5
}
